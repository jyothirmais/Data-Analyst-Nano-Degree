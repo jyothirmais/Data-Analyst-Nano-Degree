{
 "cells": [
  {
   "cell_type": "code",
   "execution_count": null,
   "metadata": {},
   "outputs": [],
   "source": [
    "consumer_key = 'm3Zt3IswhzPz6yT87OTnEBQrJ'\n",
    "consumer_secret = 'T0z7QvhWZNYHDjJQkOSLOI5fOA7BHFtiEKLmVjF3O7qmHlXA9s'\n",
    "access_token = '1504192152779198464-e8cmViWgj1TTiASXXmA5hinxGsZWNo'\n",
    "access_secret = 'jtWhNQzPC5Ig2fQBe5xM8x9xo0BXR24Xf2V7IjWwTOrAs'"
   ]
  }
 ],
 "metadata": {
  "kernelspec": {
   "display_name": "Python 3",
   "language": "python",
   "name": "python3"
  },
  "language_info": {
   "codemirror_mode": {
    "name": "ipython",
    "version": 3
   },
   "file_extension": ".py",
   "mimetype": "text/x-python",
   "name": "python",
   "nbconvert_exporter": "python",
   "pygments_lexer": "ipython3",
   "version": "3.6.3"
  }
 },
 "nbformat": 4,
 "nbformat_minor": 2
}
