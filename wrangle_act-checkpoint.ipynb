{
 "cells": [
  {
   "cell_type": "markdown",
   "metadata": {
    "extensions": {
     "jupyter_dashboards": {
      "version": 1,
      "views": {
       "grid_default": {
        "col": 0,
        "height": 4,
        "hidden": false,
        "row": 0,
        "width": 4
       },
       "report_default": {
        "hidden": false
       }
      }
     }
    }
   },
   "source": [
    "# Project: Wrangling and Analyze Data"
   ]
  },
  {
   "cell_type": "markdown",
   "metadata": {},
   "source": [
    "## Data Gathering\n",
    "In the cell below, gather **all** three pieces of data for this project and load them in the notebook. **Note:** the methods required to gather each data are different.\n",
    "1. Directly download the WeRateDogs Twitter archive data (twitter_archive_enhanced.csv)"
   ]
  },
  {
   "cell_type": "code",
   "execution_count": 5,
   "metadata": {
    "extensions": {
     "jupyter_dashboards": {
      "version": 1,
      "views": {
       "grid_default": {
        "hidden": true
       },
       "report_default": {
        "hidden": true
       }
      }
     }
    }
   },
   "outputs": [],
   "source": [
    "%run creds.ipynb\n",
    "import pandas as pd\n",
    "\n",
    "archive_data=pd.read_csv('twitter-archive-enhanced.csv')\n",
    "\n"
   ]
  },
  {
   "cell_type": "markdown",
   "metadata": {},
   "source": [
    "2. Use the Requests library to download the tweet image prediction (image_predictions.tsv)"
   ]
  },
  {
   "cell_type": "code",
   "execution_count": 6,
   "metadata": {
    "scrolled": true
   },
   "outputs": [],
   "source": [
    "import requests\n",
    "import os\n",
    "folder_name = 'image_predictions'\n",
    "if not os.path.exists(folder_name):\n",
    "    os.makedirs(folder_name)\n",
    "url = \"https://d17h27t6h515a5.cloudfront.net/topher/2017/August/599fd2ad_image-predictions/image-predictions.tsv\"\n",
    "response = requests.get(url)\n",
    "with open(os.path.join(folder_name, url.split('/')[-1]), mode = 'wb') as file:\n",
    "    file.write(response.content)\n",
    "tweet_image_prediction = pd.read_csv('image-predictions.tsv','\\t')\n"
   ]
  },
  {
   "cell_type": "markdown",
   "metadata": {},
   "source": [
    "3. Use the Tweepy library to query additional data via the Twitter API (tweet_json.txt)"
   ]
  },
  {
   "cell_type": "code",
   "execution_count": 7,
   "metadata": {
    "scrolled": true
   },
   "outputs": [],
   "source": [
    "# import tweepy\n",
    "# tweepy.__version__ \n",
    "# id_of_tweet = archive_data['tweet_id'].tolist()\n",
    "# auth = tweepy.OAuthHandler(consumer_key, consumer_secret)\n",
    "# auth.set_access_token(access_token, access_secret)\n",
    "# client = tweepy.Client(bearer_token=bearer_token, wait_on_rate_limit=True)\n",
    "# tweet_fields=[\"id\",\"public_metrics\"]\n",
    "# df_twitter = []\n",
    "# for tweet_id in id_of_tweet:\n",
    "#     twitter_data={}\n",
    "#     temp = client.get_tweet(id = tweet_id,tweet_fields=tweet_fields)\n",
    "#     tweet_data=temp.data\n",
    "#     for key in tweet_fields:\n",
    "#         if tweet_data and tweet_data.get(key):\n",
    "#             twitter_data[key]=tweet_data[key]\n",
    "#             df_twitter.append(twitter_data)\n",
    "#         else:\n",
    "#             print(f\"empty_tweet:{tweet_id},tweet_info:{temp.data}\")               \n"
   ]
  },
  {
   "cell_type": "code",
   "execution_count": 8,
   "metadata": {},
   "outputs": [
    {
     "data": {
      "text/html": [
       "<div>\n",
       "<style scoped>\n",
       "    .dataframe tbody tr th:only-of-type {\n",
       "        vertical-align: middle;\n",
       "    }\n",
       "\n",
       "    .dataframe tbody tr th {\n",
       "        vertical-align: top;\n",
       "    }\n",
       "\n",
       "    .dataframe thead th {\n",
       "        text-align: right;\n",
       "    }\n",
       "</style>\n",
       "<table border=\"1\" class=\"dataframe\">\n",
       "  <thead>\n",
       "    <tr style=\"text-align: right;\">\n",
       "      <th></th>\n",
       "      <th>id</th>\n",
       "      <th>public_metrics</th>\n",
       "    </tr>\n",
       "  </thead>\n",
       "  <tbody>\n",
       "    <tr>\n",
       "      <th>0</th>\n",
       "      <td>892420643555336193</td>\n",
       "      <td>{'retweet_count': 7076, 'reply_count': 144, 'l...</td>\n",
       "    </tr>\n",
       "    <tr>\n",
       "      <th>1</th>\n",
       "      <td>892420643555336193</td>\n",
       "      <td>{'retweet_count': 7076, 'reply_count': 144, 'l...</td>\n",
       "    </tr>\n",
       "    <tr>\n",
       "      <th>2</th>\n",
       "      <td>892177421306343426</td>\n",
       "      <td>{'retweet_count': 5344, 'reply_count': 172, 'l...</td>\n",
       "    </tr>\n",
       "    <tr>\n",
       "      <th>3</th>\n",
       "      <td>892177421306343426</td>\n",
       "      <td>{'retweet_count': 5344, 'reply_count': 172, 'l...</td>\n",
       "    </tr>\n",
       "    <tr>\n",
       "      <th>4</th>\n",
       "      <td>891815181378084864</td>\n",
       "      <td>{'retweet_count': 3514, 'reply_count': 110, 'l...</td>\n",
       "    </tr>\n",
       "  </tbody>\n",
       "</table>\n",
       "</div>"
      ],
      "text/plain": [
       "                   id                                     public_metrics\n",
       "0  892420643555336193  {'retweet_count': 7076, 'reply_count': 144, 'l...\n",
       "1  892420643555336193  {'retweet_count': 7076, 'reply_count': 144, 'l...\n",
       "2  892177421306343426  {'retweet_count': 5344, 'reply_count': 172, 'l...\n",
       "3  892177421306343426  {'retweet_count': 5344, 'reply_count': 172, 'l...\n",
       "4  891815181378084864  {'retweet_count': 3514, 'reply_count': 110, 'l..."
      ]
     },
     "execution_count": 8,
     "metadata": {},
     "output_type": "execute_result"
    }
   ],
   "source": [
    "# tweet_data = pd.DataFrame(df_twitter)\n",
    "# tweet_data.to_csv('tweet_data.csv',index=False)\n",
    "tweet_data=pd.read_csv('tweet_json.txt')\n",
    "tweet_data.head()"
   ]
  },
  {
   "cell_type": "markdown",
   "metadata": {
    "extensions": {
     "jupyter_dashboards": {
      "version": 1,
      "views": {
       "grid_default": {
        "col": 4,
        "height": 4,
        "hidden": false,
        "row": 28,
        "width": 4
       },
       "report_default": {
        "hidden": false
       }
      }
     }
    }
   },
   "source": [
    "## Assessing Data\n",
    "In this section, detect and document at least **eight (8) quality issues and two (2) tidiness issue**. You must use **both** visual assessment\n",
    "programmatic assessement to assess the data.\n",
    "\n",
    "**Note:** pay attention to the following key points when you access the data.\n",
    "\n",
    "* You only want original ratings (no retweets) that have images. Though there are 5000+ tweets in the dataset, not all are dog ratings and some are retweets.\n",
    "* Assessing and cleaning the entire dataset completely would require a lot of time, and is not necessary to practice and demonstrate your skills in data wrangling. Therefore, the requirements of this project are only to assess and clean at least 8 quality issues and at least 2 tidiness issues in this dataset.\n",
    "* The fact that the rating numerators are greater than the denominators does not need to be cleaned. This [unique rating system](http://knowyourmeme.com/memes/theyre-good-dogs-brent) is a big part of the popularity of WeRateDogs.\n",
    "* You do not need to gather the tweets beyond August 1st, 2017. You can, but note that you won't be able to gather the image predictions for these tweets since you don't have access to the algorithm used.\n",
    "\n"
   ]
  },
  {
   "cell_type": "code",
   "execution_count": 9,
   "metadata": {},
   "outputs": [
    {
     "data": {
      "text/html": [
       "<div>\n",
       "<style scoped>\n",
       "    .dataframe tbody tr th:only-of-type {\n",
       "        vertical-align: middle;\n",
       "    }\n",
       "\n",
       "    .dataframe tbody tr th {\n",
       "        vertical-align: top;\n",
       "    }\n",
       "\n",
       "    .dataframe thead th {\n",
       "        text-align: right;\n",
       "    }\n",
       "</style>\n",
       "<table border=\"1\" class=\"dataframe\">\n",
       "  <thead>\n",
       "    <tr style=\"text-align: right;\">\n",
       "      <th></th>\n",
       "      <th>tweet_id</th>\n",
       "      <th>in_reply_to_status_id</th>\n",
       "      <th>in_reply_to_user_id</th>\n",
       "      <th>timestamp</th>\n",
       "      <th>source</th>\n",
       "      <th>text</th>\n",
       "      <th>retweeted_status_id</th>\n",
       "      <th>retweeted_status_user_id</th>\n",
       "      <th>retweeted_status_timestamp</th>\n",
       "      <th>expanded_urls</th>\n",
       "      <th>rating_numerator</th>\n",
       "      <th>rating_denominator</th>\n",
       "      <th>name</th>\n",
       "      <th>doggo</th>\n",
       "      <th>floofer</th>\n",
       "      <th>pupper</th>\n",
       "      <th>puppo</th>\n",
       "    </tr>\n",
       "  </thead>\n",
       "  <tbody>\n",
       "    <tr>\n",
       "      <th>0</th>\n",
       "      <td>892420643555336193</td>\n",
       "      <td>NaN</td>\n",
       "      <td>NaN</td>\n",
       "      <td>2017-08-01 16:23:56 +0000</td>\n",
       "      <td>&lt;a href=\"http://twitter.com/download/iphone\" r...</td>\n",
       "      <td>This is Phineas. He's a mystical boy. Only eve...</td>\n",
       "      <td>NaN</td>\n",
       "      <td>NaN</td>\n",
       "      <td>NaN</td>\n",
       "      <td>https://twitter.com/dog_rates/status/892420643...</td>\n",
       "      <td>13</td>\n",
       "      <td>10</td>\n",
       "      <td>Phineas</td>\n",
       "      <td>None</td>\n",
       "      <td>None</td>\n",
       "      <td>None</td>\n",
       "      <td>None</td>\n",
       "    </tr>\n",
       "    <tr>\n",
       "      <th>1</th>\n",
       "      <td>892177421306343426</td>\n",
       "      <td>NaN</td>\n",
       "      <td>NaN</td>\n",
       "      <td>2017-08-01 00:17:27 +0000</td>\n",
       "      <td>&lt;a href=\"http://twitter.com/download/iphone\" r...</td>\n",
       "      <td>This is Tilly. She's just checking pup on you....</td>\n",
       "      <td>NaN</td>\n",
       "      <td>NaN</td>\n",
       "      <td>NaN</td>\n",
       "      <td>https://twitter.com/dog_rates/status/892177421...</td>\n",
       "      <td>13</td>\n",
       "      <td>10</td>\n",
       "      <td>Tilly</td>\n",
       "      <td>None</td>\n",
       "      <td>None</td>\n",
       "      <td>None</td>\n",
       "      <td>None</td>\n",
       "    </tr>\n",
       "    <tr>\n",
       "      <th>2</th>\n",
       "      <td>891815181378084864</td>\n",
       "      <td>NaN</td>\n",
       "      <td>NaN</td>\n",
       "      <td>2017-07-31 00:18:03 +0000</td>\n",
       "      <td>&lt;a href=\"http://twitter.com/download/iphone\" r...</td>\n",
       "      <td>This is Archie. He is a rare Norwegian Pouncin...</td>\n",
       "      <td>NaN</td>\n",
       "      <td>NaN</td>\n",
       "      <td>NaN</td>\n",
       "      <td>https://twitter.com/dog_rates/status/891815181...</td>\n",
       "      <td>12</td>\n",
       "      <td>10</td>\n",
       "      <td>Archie</td>\n",
       "      <td>None</td>\n",
       "      <td>None</td>\n",
       "      <td>None</td>\n",
       "      <td>None</td>\n",
       "    </tr>\n",
       "    <tr>\n",
       "      <th>3</th>\n",
       "      <td>891689557279858688</td>\n",
       "      <td>NaN</td>\n",
       "      <td>NaN</td>\n",
       "      <td>2017-07-30 15:58:51 +0000</td>\n",
       "      <td>&lt;a href=\"http://twitter.com/download/iphone\" r...</td>\n",
       "      <td>This is Darla. She commenced a snooze mid meal...</td>\n",
       "      <td>NaN</td>\n",
       "      <td>NaN</td>\n",
       "      <td>NaN</td>\n",
       "      <td>https://twitter.com/dog_rates/status/891689557...</td>\n",
       "      <td>13</td>\n",
       "      <td>10</td>\n",
       "      <td>Darla</td>\n",
       "      <td>None</td>\n",
       "      <td>None</td>\n",
       "      <td>None</td>\n",
       "      <td>None</td>\n",
       "    </tr>\n",
       "    <tr>\n",
       "      <th>4</th>\n",
       "      <td>891327558926688256</td>\n",
       "      <td>NaN</td>\n",
       "      <td>NaN</td>\n",
       "      <td>2017-07-29 16:00:24 +0000</td>\n",
       "      <td>&lt;a href=\"http://twitter.com/download/iphone\" r...</td>\n",
       "      <td>This is Franklin. He would like you to stop ca...</td>\n",
       "      <td>NaN</td>\n",
       "      <td>NaN</td>\n",
       "      <td>NaN</td>\n",
       "      <td>https://twitter.com/dog_rates/status/891327558...</td>\n",
       "      <td>12</td>\n",
       "      <td>10</td>\n",
       "      <td>Franklin</td>\n",
       "      <td>None</td>\n",
       "      <td>None</td>\n",
       "      <td>None</td>\n",
       "      <td>None</td>\n",
       "    </tr>\n",
       "  </tbody>\n",
       "</table>\n",
       "</div>"
      ],
      "text/plain": [
       "             tweet_id  in_reply_to_status_id  in_reply_to_user_id  \\\n",
       "0  892420643555336193                    NaN                  NaN   \n",
       "1  892177421306343426                    NaN                  NaN   \n",
       "2  891815181378084864                    NaN                  NaN   \n",
       "3  891689557279858688                    NaN                  NaN   \n",
       "4  891327558926688256                    NaN                  NaN   \n",
       "\n",
       "                   timestamp  \\\n",
       "0  2017-08-01 16:23:56 +0000   \n",
       "1  2017-08-01 00:17:27 +0000   \n",
       "2  2017-07-31 00:18:03 +0000   \n",
       "3  2017-07-30 15:58:51 +0000   \n",
       "4  2017-07-29 16:00:24 +0000   \n",
       "\n",
       "                                              source  \\\n",
       "0  <a href=\"http://twitter.com/download/iphone\" r...   \n",
       "1  <a href=\"http://twitter.com/download/iphone\" r...   \n",
       "2  <a href=\"http://twitter.com/download/iphone\" r...   \n",
       "3  <a href=\"http://twitter.com/download/iphone\" r...   \n",
       "4  <a href=\"http://twitter.com/download/iphone\" r...   \n",
       "\n",
       "                                                text  retweeted_status_id  \\\n",
       "0  This is Phineas. He's a mystical boy. Only eve...                  NaN   \n",
       "1  This is Tilly. She's just checking pup on you....                  NaN   \n",
       "2  This is Archie. He is a rare Norwegian Pouncin...                  NaN   \n",
       "3  This is Darla. She commenced a snooze mid meal...                  NaN   \n",
       "4  This is Franklin. He would like you to stop ca...                  NaN   \n",
       "\n",
       "   retweeted_status_user_id retweeted_status_timestamp  \\\n",
       "0                       NaN                        NaN   \n",
       "1                       NaN                        NaN   \n",
       "2                       NaN                        NaN   \n",
       "3                       NaN                        NaN   \n",
       "4                       NaN                        NaN   \n",
       "\n",
       "                                       expanded_urls  rating_numerator  \\\n",
       "0  https://twitter.com/dog_rates/status/892420643...                13   \n",
       "1  https://twitter.com/dog_rates/status/892177421...                13   \n",
       "2  https://twitter.com/dog_rates/status/891815181...                12   \n",
       "3  https://twitter.com/dog_rates/status/891689557...                13   \n",
       "4  https://twitter.com/dog_rates/status/891327558...                12   \n",
       "\n",
       "   rating_denominator      name doggo floofer pupper puppo  \n",
       "0                  10   Phineas  None    None   None  None  \n",
       "1                  10     Tilly  None    None   None  None  \n",
       "2                  10    Archie  None    None   None  None  \n",
       "3                  10     Darla  None    None   None  None  \n",
       "4                  10  Franklin  None    None   None  None  "
      ]
     },
     "execution_count": 9,
     "metadata": {},
     "output_type": "execute_result"
    }
   ],
   "source": [
    "archive_data.head()\n",
    "\n"
   ]
  },
  {
   "cell_type": "code",
   "execution_count": 10,
   "metadata": {},
   "outputs": [
    {
     "data": {
      "text/plain": [
       "0        Phineas\n",
       "1          Tilly\n",
       "2         Archie\n",
       "3          Darla\n",
       "4       Franklin\n",
       "5           None\n",
       "6            Jax\n",
       "7           None\n",
       "8           Zoey\n",
       "9         Cassie\n",
       "10          Koda\n",
       "11         Bruno\n",
       "12          None\n",
       "13           Ted\n",
       "14        Stuart\n",
       "15        Oliver\n",
       "16           Jim\n",
       "17          Zeke\n",
       "18       Ralphus\n",
       "19        Canela\n",
       "20        Gerald\n",
       "21       Jeffrey\n",
       "22          such\n",
       "23        Canela\n",
       "24          None\n",
       "25          None\n",
       "26          Maya\n",
       "27        Mingus\n",
       "28         Derek\n",
       "29        Roscoe\n",
       "          ...   \n",
       "2326       quite\n",
       "2327           a\n",
       "2328        None\n",
       "2329        None\n",
       "2330        None\n",
       "2331        None\n",
       "2332        None\n",
       "2333          an\n",
       "2334           a\n",
       "2335          an\n",
       "2336        None\n",
       "2337        None\n",
       "2338        None\n",
       "2339        None\n",
       "2340        None\n",
       "2341        None\n",
       "2342        None\n",
       "2343        None\n",
       "2344        None\n",
       "2345         the\n",
       "2346         the\n",
       "2347           a\n",
       "2348           a\n",
       "2349          an\n",
       "2350           a\n",
       "2351        None\n",
       "2352           a\n",
       "2353           a\n",
       "2354           a\n",
       "2355        None\n",
       "Name: name, Length: 2356, dtype: object"
      ]
     },
     "execution_count": 10,
     "metadata": {},
     "output_type": "execute_result"
    }
   ],
   "source": [
    "archive_data['name']"
   ]
  },
  {
   "cell_type": "code",
   "execution_count": 11,
   "metadata": {},
   "outputs": [
    {
     "data": {
      "text/plain": [
       "\"This is Phineas. He's a mystical boy. Only ever appears in the hole of a donut. 13/10 https://t.co/MgUWQ76dJU\""
      ]
     },
     "execution_count": 11,
     "metadata": {},
     "output_type": "execute_result"
    }
   ],
   "source": [
    "archive_data['text'][0]"
   ]
  },
  {
   "cell_type": "code",
   "execution_count": 12,
   "metadata": {},
   "outputs": [
    {
     "data": {
      "text/plain": [
       "0       False\n",
       "1       False\n",
       "2       False\n",
       "3       False\n",
       "4       False\n",
       "5       False\n",
       "6       False\n",
       "7       False\n",
       "8       False\n",
       "9       False\n",
       "10      False\n",
       "11      False\n",
       "12      False\n",
       "13      False\n",
       "14      False\n",
       "15      False\n",
       "16      False\n",
       "17      False\n",
       "18      False\n",
       "19      False\n",
       "20      False\n",
       "21      False\n",
       "22      False\n",
       "23      False\n",
       "24      False\n",
       "25      False\n",
       "26      False\n",
       "27      False\n",
       "28      False\n",
       "29      False\n",
       "        ...  \n",
       "2326    False\n",
       "2327    False\n",
       "2328    False\n",
       "2329    False\n",
       "2330    False\n",
       "2331    False\n",
       "2332    False\n",
       "2333    False\n",
       "2334    False\n",
       "2335    False\n",
       "2336    False\n",
       "2337    False\n",
       "2338     True\n",
       "2339    False\n",
       "2340    False\n",
       "2341    False\n",
       "2342    False\n",
       "2343    False\n",
       "2344    False\n",
       "2345    False\n",
       "2346    False\n",
       "2347    False\n",
       "2348    False\n",
       "2349    False\n",
       "2350    False\n",
       "2351    False\n",
       "2352    False\n",
       "2353    False\n",
       "2354    False\n",
       "2355    False\n",
       "Name: expanded_urls, Length: 2356, dtype: bool"
      ]
     },
     "execution_count": 12,
     "metadata": {},
     "output_type": "execute_result"
    }
   ],
   "source": [
    "\n",
    "archive_data['expanded_urls'].duplicated()"
   ]
  },
  {
   "cell_type": "code",
   "execution_count": 13,
   "metadata": {
    "scrolled": true
   },
   "outputs": [
    {
     "data": {
      "text/plain": [
       "55                                                    NaN\n",
       "64                                                    NaN\n",
       "75      https://www.gofundme.com/3yd6y1c,https://twitt...\n",
       "76      https://twitter.com/dog_rates/status/878057613...\n",
       "98      https://www.gofundme.com/help-my-baby-sierra-g...\n",
       "113                                                   NaN\n",
       "126     https://www.gofundme.com/3ti3nps,https://twitt...\n",
       "135     https://twitter.com/dog_rates/status/866450705...\n",
       "136     https://twitter.com/dog_rates/status/866334964...\n",
       "148                                                   NaN\n",
       "150     https://www.gofundme.com/helpquinny,https://tw...\n",
       "161     https://www.gofundme.com/help-lorenzo-beat-can...\n",
       "169     https://twitter.com/dog_rates/status/859196978...\n",
       "179                                                   NaN\n",
       "185                                                   NaN\n",
       "186                                                   NaN\n",
       "188                                                   NaN\n",
       "189                                                   NaN\n",
       "218                                                   NaN\n",
       "228                                                   NaN\n",
       "234                                                   NaN\n",
       "253     https://twitter.com/dog_rates/status/844704788...\n",
       "264     https://twitter.com/dog_rates/status/842163532...\n",
       "271     https://twitter.com/dog_rates/status/841077006...\n",
       "274                                                   NaN\n",
       "276     https://www.gofundme.com/3hgsuu0,https://twitt...\n",
       "280     https://twitter.com/dog_rates/status/839549326...\n",
       "290                                                   NaN\n",
       "291                                                   NaN\n",
       "293     https://twitter.com/dog_rates/status/837820167...\n",
       "                              ...                        \n",
       "1598                                                  NaN\n",
       "1605                                                  NaN\n",
       "1618                                                  NaN\n",
       "1655    https://twitter.com/dog_rates/status/683391852...\n",
       "1663                                                  NaN\n",
       "1683    https://twitter.com/dog_rates/status/681694085...\n",
       "1688    https://twitter.com/dog_rates/status/681523177...\n",
       "1689                                                  NaN\n",
       "1726    https://twitter.com/dog_rates/status/680055455...\n",
       "1742    https://twitter.com/dog_rates/status/679462823...\n",
       "1774                                                  NaN\n",
       "1806    https://twitter.com/dog_rates/status/676936541...\n",
       "1819                                                  NaN\n",
       "1844                                                  NaN\n",
       "1895                                                  NaN\n",
       "1905                                                  NaN\n",
       "1914                                                  NaN\n",
       "1940                                                  NaN\n",
       "1970    https://twitter.com/dog_rates/status/673295268...\n",
       "2038                                                  NaN\n",
       "2149                                                  NaN\n",
       "2180    https://twitter.com/dog_rates/status/669000397...\n",
       "2189                                                  NaN\n",
       "2212                        https://vine.co/v/ea0OwvPTx9l\n",
       "2248    https://twitter.com/dog_rates/status/667866724...\n",
       "2286    https://twitter.com/dog_rates/status/667182792...\n",
       "2293    https://twitter.com/dog_rates/status/667152164...\n",
       "2294    https://twitter.com/dog_rates/status/667138269...\n",
       "2298                                                  NaN\n",
       "2338    https://twitter.com/dog_rates/status/666104133...\n",
       "Name: expanded_urls, Length: 137, dtype: object"
      ]
     },
     "execution_count": 13,
     "metadata": {},
     "output_type": "execute_result"
    }
   ],
   "source": [
    "archive_data['expanded_urls'][archive_data['expanded_urls'].duplicated()]"
   ]
  },
  {
   "cell_type": "code",
   "execution_count": 14,
   "metadata": {},
   "outputs": [
    {
     "data": {
      "text/plain": [
       "30      NaN\n",
       "55      NaN\n",
       "64      NaN\n",
       "113     NaN\n",
       "148     NaN\n",
       "179     NaN\n",
       "185     NaN\n",
       "186     NaN\n",
       "188     NaN\n",
       "189     NaN\n",
       "218     NaN\n",
       "228     NaN\n",
       "234     NaN\n",
       "274     NaN\n",
       "290     NaN\n",
       "291     NaN\n",
       "313     NaN\n",
       "342     NaN\n",
       "346     NaN\n",
       "375     NaN\n",
       "387     NaN\n",
       "409     NaN\n",
       "427     NaN\n",
       "498     NaN\n",
       "513     NaN\n",
       "570     NaN\n",
       "576     NaN\n",
       "611     NaN\n",
       "701     NaN\n",
       "707     NaN\n",
       "843     NaN\n",
       "857     NaN\n",
       "967     NaN\n",
       "1005    NaN\n",
       "1080    NaN\n",
       "1295    NaN\n",
       "1345    NaN\n",
       "1445    NaN\n",
       "1446    NaN\n",
       "1474    NaN\n",
       "1479    NaN\n",
       "1497    NaN\n",
       "1523    NaN\n",
       "1598    NaN\n",
       "1605    NaN\n",
       "1618    NaN\n",
       "1663    NaN\n",
       "1689    NaN\n",
       "1774    NaN\n",
       "1819    NaN\n",
       "1844    NaN\n",
       "1895    NaN\n",
       "1905    NaN\n",
       "1914    NaN\n",
       "1940    NaN\n",
       "2038    NaN\n",
       "2149    NaN\n",
       "2189    NaN\n",
       "2298    NaN\n",
       "Name: expanded_urls, dtype: object"
      ]
     },
     "execution_count": 14,
     "metadata": {},
     "output_type": "execute_result"
    }
   ],
   "source": [
    "archive_data['expanded_urls'][archive_data['expanded_urls'].isnull()]"
   ]
  },
  {
   "cell_type": "code",
   "execution_count": 15,
   "metadata": {},
   "outputs": [
    {
     "data": {
      "text/plain": [
       "'Phineas'"
      ]
     },
     "execution_count": 15,
     "metadata": {},
     "output_type": "execute_result"
    }
   ],
   "source": [
    "archive_data['name'][0]"
   ]
  },
  {
   "cell_type": "code",
   "execution_count": 16,
   "metadata": {},
   "outputs": [
    {
     "data": {
      "text/plain": [
       "'<a href=\"http://twitter.com/download/iphone\" rel=\"nofollow\">Twitter for iPhone</a>'"
      ]
     },
     "execution_count": 16,
     "metadata": {},
     "output_type": "execute_result"
    }
   ],
   "source": [
    "archive_data['source'][0]"
   ]
  },
  {
   "cell_type": "code",
   "execution_count": 17,
   "metadata": {},
   "outputs": [
    {
     "data": {
      "text/plain": [
       "\"This is Phineas. He's a mystical boy. Only ever appears in the hole of a donut. 13/10 https://t.co/MgUWQ76dJU\""
      ]
     },
     "execution_count": 17,
     "metadata": {},
     "output_type": "execute_result"
    }
   ],
   "source": [
    "archive_data['text'][0]"
   ]
  },
  {
   "cell_type": "code",
   "execution_count": 18,
   "metadata": {
    "scrolled": true
   },
   "outputs": [
    {
     "name": "stdout",
     "output_type": "stream",
     "text": [
      "<class 'pandas.core.frame.DataFrame'>\n",
      "RangeIndex: 2075 entries, 0 to 2074\n",
      "Data columns (total 12 columns):\n",
      "tweet_id    2075 non-null int64\n",
      "jpg_url     2075 non-null object\n",
      "img_num     2075 non-null int64\n",
      "p1          2075 non-null object\n",
      "p1_conf     2075 non-null float64\n",
      "p1_dog      2075 non-null bool\n",
      "p2          2075 non-null object\n",
      "p2_conf     2075 non-null float64\n",
      "p2_dog      2075 non-null bool\n",
      "p3          2075 non-null object\n",
      "p3_conf     2075 non-null float64\n",
      "p3_dog      2075 non-null bool\n",
      "dtypes: bool(3), float64(3), int64(2), object(4)\n",
      "memory usage: 152.1+ KB\n"
     ]
    }
   ],
   "source": [
    "tweet_image_prediction.info()"
   ]
  },
  {
   "cell_type": "code",
   "execution_count": 19,
   "metadata": {},
   "outputs": [
    {
     "data": {
      "text/plain": [
       "0            Welsh_springer_spaniel\n",
       "1                           redbone\n",
       "2                   German_shepherd\n",
       "3               Rhodesian_ridgeback\n",
       "4                miniature_pinscher\n",
       "5              Bernese_mountain_dog\n",
       "6                        box_turtle\n",
       "7                              chow\n",
       "8                     shopping_cart\n",
       "9                  miniature_poodle\n",
       "10                 golden_retriever\n",
       "11                    Gordon_setter\n",
       "12                     Walker_hound\n",
       "13                              pug\n",
       "14                       bloodhound\n",
       "15                            Lhasa\n",
       "16                   English_setter\n",
       "17                              hen\n",
       "18                 desktop_computer\n",
       "19                Italian_greyhound\n",
       "20                      Maltese_dog\n",
       "21                 three-toed_sloth\n",
       "22                               ox\n",
       "23                 golden_retriever\n",
       "24                         malamute\n",
       "25                       guinea_pig\n",
       "26      soft-coated_wheaten_terrier\n",
       "27                        Chihuahua\n",
       "28          black-and-tan_coonhound\n",
       "29                             coho\n",
       "                   ...             \n",
       "2045                 French_bulldog\n",
       "2046                    convertible\n",
       "2047                         kuvasz\n",
       "2048                      Chihuahua\n",
       "2049                        Samoyed\n",
       "2050               Mexican_hairless\n",
       "2051                       Pembroke\n",
       "2052                      limousine\n",
       "2053                         basset\n",
       "2054                 French_bulldog\n",
       "2055                       Pembroke\n",
       "2056                 Siberian_husky\n",
       "2057               golden_retriever\n",
       "2058               golden_retriever\n",
       "2059                        whippet\n",
       "2060               golden_retriever\n",
       "2061                 French_bulldog\n",
       "2062                       Pembroke\n",
       "2063                 French_bulldog\n",
       "2064                        Samoyed\n",
       "2065                       Pembroke\n",
       "2066                  Irish_terrier\n",
       "2067                     Pomeranian\n",
       "2068                    Appenzeller\n",
       "2069       Chesapeake_Bay_retriever\n",
       "2070                         basset\n",
       "2071                    paper_towel\n",
       "2072                      Chihuahua\n",
       "2073                      Chihuahua\n",
       "2074                         orange\n",
       "Name: p1, Length: 2075, dtype: object"
      ]
     },
     "execution_count": 19,
     "metadata": {},
     "output_type": "execute_result"
    }
   ],
   "source": [
    "tweet_image_prediction['p1']"
   ]
  },
  {
   "cell_type": "code",
   "execution_count": 20,
   "metadata": {},
   "outputs": [
    {
     "data": {
      "text/plain": [
       "0                         collie\n",
       "1             miniature_pinscher\n",
       "2                       malinois\n",
       "3                        redbone\n",
       "4                     Rottweiler\n",
       "5               English_springer\n",
       "6                     mud_turtle\n",
       "7                Tibetan_mastiff\n",
       "8                shopping_basket\n",
       "9                       komondor\n",
       "10               Tibetan_mastiff\n",
       "11             Yorkshire_terrier\n",
       "12              English_foxhound\n",
       "13                  bull_mastiff\n",
       "14               German_shepherd\n",
       "15                      Shih-Tzu\n",
       "16                  Newfoundland\n",
       "17                          cock\n",
       "18                          desk\n",
       "19                   toy_terrier\n",
       "20                    toy_poodle\n",
       "21                         otter\n",
       "22                  Newfoundland\n",
       "23      Chesapeake_Bay_retriever\n",
       "24                Siberian_husky\n",
       "25                         skunk\n",
       "26                  Afghan_hound\n",
       "27                   toy_terrier\n",
       "28                    bloodhound\n",
       "29                    barracouta\n",
       "                  ...           \n",
       "2045                   Chihuahua\n",
       "2046                  sports_car\n",
       "2047              Great_Pyrenees\n",
       "2048                 toy_terrier\n",
       "2049                  Eskimo_dog\n",
       "2050                    sea_lion\n",
       "2051         Rhodesian_ridgeback\n",
       "2052                   tow_truck\n",
       "2053                     redbone\n",
       "2054                         pug\n",
       "2055         Rhodesian_ridgeback\n",
       "2056                  Eskimo_dog\n",
       "2057          Labrador_retriever\n",
       "2058             Tibetan_mastiff\n",
       "2059                      borzoi\n",
       "2060          Labrador_retriever\n",
       "2061                       boxer\n",
       "2062                    Cardigan\n",
       "2063          Labrador_retriever\n",
       "2064                  Pomeranian\n",
       "2065                    Cardigan\n",
       "2066                Irish_setter\n",
       "2067                  Eskimo_dog\n",
       "2068               Border_collie\n",
       "2069               Irish_terrier\n",
       "2070            English_springer\n",
       "2071          Labrador_retriever\n",
       "2072                    malamute\n",
       "2073                    Pekinese\n",
       "2074                       bagel\n",
       "Name: p2, Length: 2075, dtype: object"
      ]
     },
     "execution_count": 20,
     "metadata": {},
     "output_type": "execute_result"
    }
   ],
   "source": [
    "tweet_image_prediction['p2']"
   ]
  },
  {
   "cell_type": "code",
   "execution_count": 21,
   "metadata": {},
   "outputs": [
    {
     "data": {
      "text/plain": [
       "0                 Shetland_sheepdog\n",
       "1               Rhodesian_ridgeback\n",
       "2                        bloodhound\n",
       "3                miniature_pinscher\n",
       "4                          Doberman\n",
       "5        Greater_Swiss_Mountain_dog\n",
       "6                          terrapin\n",
       "7                          fur_coat\n",
       "8                  golden_retriever\n",
       "9       soft-coated_wheaten_terrier\n",
       "10               Labrador_retriever\n",
       "11                         Pekinese\n",
       "12                     Ibizan_hound\n",
       "13                   French_bulldog\n",
       "14                         malinois\n",
       "15                   Dandie_Dinmont\n",
       "16                           borzoi\n",
       "17                        partridge\n",
       "18                         bookcase\n",
       "19                          basenji\n",
       "20                 miniature_poodle\n",
       "21                   great_grey_owl\n",
       "22                      groenendael\n",
       "23               Labrador_retriever\n",
       "24                       Eskimo_dog\n",
       "25                          hamster\n",
       "26                           briard\n",
       "27                         papillon\n",
       "28            flat-coated_retriever\n",
       "29                              gar\n",
       "                   ...             \n",
       "2045                    Boston_bull\n",
       "2046                      car_wheel\n",
       "2047                 Dandie_Dinmont\n",
       "2048                     can_opener\n",
       "2049      Staffordshire_bullterrier\n",
       "2050                     Weimaraner\n",
       "2051                         beagle\n",
       "2052                  shopping_cart\n",
       "2053                     Weimaraner\n",
       "2054                   bull_mastiff\n",
       "2055                         beagle\n",
       "2056                       malamute\n",
       "2057                 English_setter\n",
       "2058             Labrador_retriever\n",
       "2059                         Saluki\n",
       "2060                        redbone\n",
       "2061      Staffordshire_bullterrier\n",
       "2062                        basenji\n",
       "2063                         muzzle\n",
       "2064                           chow\n",
       "2065                      Chihuahua\n",
       "2066       Chesapeake_Bay_retriever\n",
       "2067                       Pembroke\n",
       "2068                      ice_lolly\n",
       "2069                Indian_elephant\n",
       "2070    German_short-haired_pointer\n",
       "2071                        spatula\n",
       "2072                         kelpie\n",
       "2073                       papillon\n",
       "2074                         banana\n",
       "Name: p3, Length: 2075, dtype: object"
      ]
     },
     "execution_count": 21,
     "metadata": {},
     "output_type": "execute_result"
    }
   ],
   "source": [
    "tweet_image_prediction['p3']"
   ]
  },
  {
   "cell_type": "code",
   "execution_count": 22,
   "metadata": {},
   "outputs": [
    {
     "data": {
      "text/html": [
       "<div>\n",
       "<style scoped>\n",
       "    .dataframe tbody tr th:only-of-type {\n",
       "        vertical-align: middle;\n",
       "    }\n",
       "\n",
       "    .dataframe tbody tr th {\n",
       "        vertical-align: top;\n",
       "    }\n",
       "\n",
       "    .dataframe thead th {\n",
       "        text-align: right;\n",
       "    }\n",
       "</style>\n",
       "<table border=\"1\" class=\"dataframe\">\n",
       "  <thead>\n",
       "    <tr style=\"text-align: right;\">\n",
       "      <th></th>\n",
       "      <th>tweet_id</th>\n",
       "      <th>jpg_url</th>\n",
       "      <th>img_num</th>\n",
       "      <th>p1</th>\n",
       "      <th>p1_conf</th>\n",
       "      <th>p1_dog</th>\n",
       "      <th>p2</th>\n",
       "      <th>p2_conf</th>\n",
       "      <th>p2_dog</th>\n",
       "      <th>p3</th>\n",
       "      <th>p3_conf</th>\n",
       "      <th>p3_dog</th>\n",
       "    </tr>\n",
       "  </thead>\n",
       "  <tbody>\n",
       "    <tr>\n",
       "      <th>721</th>\n",
       "      <td>685973236358713344</td>\n",
       "      <td>https://pbs.twimg.com/media/CYURBGoWYAAKey3.jpg</td>\n",
       "      <td>1</td>\n",
       "      <td>Siberian_husky</td>\n",
       "      <td>0.450678</td>\n",
       "      <td>True</td>\n",
       "      <td>Eskimo_dog</td>\n",
       "      <td>0.430275</td>\n",
       "      <td>True</td>\n",
       "      <td>malamute</td>\n",
       "      <td>0.118590</td>\n",
       "      <td>True</td>\n",
       "    </tr>\n",
       "    <tr>\n",
       "      <th>346</th>\n",
       "      <td>672466075045466113</td>\n",
       "      <td>https://pbs.twimg.com/media/CVUUU_EWoAAxABV.jpg</td>\n",
       "      <td>1</td>\n",
       "      <td>cocker_spaniel</td>\n",
       "      <td>0.150424</td>\n",
       "      <td>True</td>\n",
       "      <td>toy_poodle</td>\n",
       "      <td>0.088605</td>\n",
       "      <td>True</td>\n",
       "      <td>Welsh_springer_spaniel</td>\n",
       "      <td>0.072014</td>\n",
       "      <td>True</td>\n",
       "    </tr>\n",
       "    <tr>\n",
       "      <th>668</th>\n",
       "      <td>683030066213818368</td>\n",
       "      <td>https://pbs.twimg.com/media/CXqcOHCUQAAugTB.jpg</td>\n",
       "      <td>1</td>\n",
       "      <td>boxer</td>\n",
       "      <td>0.722218</td>\n",
       "      <td>True</td>\n",
       "      <td>bull_mastiff</td>\n",
       "      <td>0.193804</td>\n",
       "      <td>True</td>\n",
       "      <td>French_bulldog</td>\n",
       "      <td>0.055194</td>\n",
       "      <td>True</td>\n",
       "    </tr>\n",
       "    <tr>\n",
       "      <th>1268</th>\n",
       "      <td>749417653287129088</td>\n",
       "      <td>https://pbs.twimg.com/media/CmZ3YH9WEAAowi3.jpg</td>\n",
       "      <td>2</td>\n",
       "      <td>papillon</td>\n",
       "      <td>0.772894</td>\n",
       "      <td>True</td>\n",
       "      <td>Shetland_sheepdog</td>\n",
       "      <td>0.042408</td>\n",
       "      <td>True</td>\n",
       "      <td>collie</td>\n",
       "      <td>0.042313</td>\n",
       "      <td>True</td>\n",
       "    </tr>\n",
       "    <tr>\n",
       "      <th>246</th>\n",
       "      <td>670474236058800128</td>\n",
       "      <td>https://pbs.twimg.com/media/CU4AwqQWUAAEgE2.jpg</td>\n",
       "      <td>1</td>\n",
       "      <td>wool</td>\n",
       "      <td>0.070076</td>\n",
       "      <td>False</td>\n",
       "      <td>siamang</td>\n",
       "      <td>0.062536</td>\n",
       "      <td>False</td>\n",
       "      <td>gorilla</td>\n",
       "      <td>0.058894</td>\n",
       "      <td>False</td>\n",
       "    </tr>\n",
       "    <tr>\n",
       "      <th>1846</th>\n",
       "      <td>839239871831150596</td>\n",
       "      <td>https://pbs.twimg.com/media/C6WUNadWYAAPxHv.jpg</td>\n",
       "      <td>3</td>\n",
       "      <td>Leonberg</td>\n",
       "      <td>0.927021</td>\n",
       "      <td>True</td>\n",
       "      <td>Newfoundland</td>\n",
       "      <td>0.050009</td>\n",
       "      <td>True</td>\n",
       "      <td>Saint_Bernard</td>\n",
       "      <td>0.010728</td>\n",
       "      <td>True</td>\n",
       "    </tr>\n",
       "    <tr>\n",
       "      <th>1317</th>\n",
       "      <td>755206590534418437</td>\n",
       "      <td>https://pbs.twimg.com/media/CnsIT0WWcAAul8V.jpg</td>\n",
       "      <td>1</td>\n",
       "      <td>web_site</td>\n",
       "      <td>0.906673</td>\n",
       "      <td>False</td>\n",
       "      <td>printer</td>\n",
       "      <td>0.008600</td>\n",
       "      <td>False</td>\n",
       "      <td>carton</td>\n",
       "      <td>0.004533</td>\n",
       "      <td>False</td>\n",
       "    </tr>\n",
       "    <tr>\n",
       "      <th>1010</th>\n",
       "      <td>709409458133323776</td>\n",
       "      <td>https://pbs.twimg.com/media/CdhUIMSUIAA4wYK.jpg</td>\n",
       "      <td>1</td>\n",
       "      <td>Shetland_sheepdog</td>\n",
       "      <td>0.797450</td>\n",
       "      <td>True</td>\n",
       "      <td>collie</td>\n",
       "      <td>0.054055</td>\n",
       "      <td>True</td>\n",
       "      <td>keeshond</td>\n",
       "      <td>0.031673</td>\n",
       "      <td>True</td>\n",
       "    </tr>\n",
       "    <tr>\n",
       "      <th>1956</th>\n",
       "      <td>864873206498414592</td>\n",
       "      <td>https://pbs.twimg.com/media/DAClmHkXcAA1kSv.jpg</td>\n",
       "      <td>2</td>\n",
       "      <td>pole</td>\n",
       "      <td>0.478616</td>\n",
       "      <td>False</td>\n",
       "      <td>lakeside</td>\n",
       "      <td>0.114182</td>\n",
       "      <td>False</td>\n",
       "      <td>wreck</td>\n",
       "      <td>0.055926</td>\n",
       "      <td>False</td>\n",
       "    </tr>\n",
       "    <tr>\n",
       "      <th>311</th>\n",
       "      <td>671544874165002241</td>\n",
       "      <td>https://pbs.twimg.com/media/CVHOgDvU4AAfrXD.jpg</td>\n",
       "      <td>1</td>\n",
       "      <td>feather_boa</td>\n",
       "      <td>0.240858</td>\n",
       "      <td>False</td>\n",
       "      <td>wig</td>\n",
       "      <td>0.085946</td>\n",
       "      <td>False</td>\n",
       "      <td>wool</td>\n",
       "      <td>0.040674</td>\n",
       "      <td>False</td>\n",
       "    </tr>\n",
       "  </tbody>\n",
       "</table>\n",
       "</div>"
      ],
      "text/plain": [
       "                tweet_id                                          jpg_url  \\\n",
       "721   685973236358713344  https://pbs.twimg.com/media/CYURBGoWYAAKey3.jpg   \n",
       "346   672466075045466113  https://pbs.twimg.com/media/CVUUU_EWoAAxABV.jpg   \n",
       "668   683030066213818368  https://pbs.twimg.com/media/CXqcOHCUQAAugTB.jpg   \n",
       "1268  749417653287129088  https://pbs.twimg.com/media/CmZ3YH9WEAAowi3.jpg   \n",
       "246   670474236058800128  https://pbs.twimg.com/media/CU4AwqQWUAAEgE2.jpg   \n",
       "1846  839239871831150596  https://pbs.twimg.com/media/C6WUNadWYAAPxHv.jpg   \n",
       "1317  755206590534418437  https://pbs.twimg.com/media/CnsIT0WWcAAul8V.jpg   \n",
       "1010  709409458133323776  https://pbs.twimg.com/media/CdhUIMSUIAA4wYK.jpg   \n",
       "1956  864873206498414592  https://pbs.twimg.com/media/DAClmHkXcAA1kSv.jpg   \n",
       "311   671544874165002241  https://pbs.twimg.com/media/CVHOgDvU4AAfrXD.jpg   \n",
       "\n",
       "      img_num                 p1   p1_conf  p1_dog                 p2  \\\n",
       "721         1     Siberian_husky  0.450678    True         Eskimo_dog   \n",
       "346         1     cocker_spaniel  0.150424    True         toy_poodle   \n",
       "668         1              boxer  0.722218    True       bull_mastiff   \n",
       "1268        2           papillon  0.772894    True  Shetland_sheepdog   \n",
       "246         1               wool  0.070076   False            siamang   \n",
       "1846        3           Leonberg  0.927021    True       Newfoundland   \n",
       "1317        1           web_site  0.906673   False            printer   \n",
       "1010        1  Shetland_sheepdog  0.797450    True             collie   \n",
       "1956        2               pole  0.478616   False           lakeside   \n",
       "311         1        feather_boa  0.240858   False                wig   \n",
       "\n",
       "       p2_conf  p2_dog                      p3   p3_conf  p3_dog  \n",
       "721   0.430275    True                malamute  0.118590    True  \n",
       "346   0.088605    True  Welsh_springer_spaniel  0.072014    True  \n",
       "668   0.193804    True          French_bulldog  0.055194    True  \n",
       "1268  0.042408    True                  collie  0.042313    True  \n",
       "246   0.062536   False                 gorilla  0.058894   False  \n",
       "1846  0.050009    True           Saint_Bernard  0.010728    True  \n",
       "1317  0.008600   False                  carton  0.004533   False  \n",
       "1010  0.054055    True                keeshond  0.031673    True  \n",
       "1956  0.114182   False                   wreck  0.055926   False  \n",
       "311   0.085946   False                    wool  0.040674   False  "
      ]
     },
     "execution_count": 22,
     "metadata": {},
     "output_type": "execute_result"
    }
   ],
   "source": [
    "tweet_image_prediction.sample(10)"
   ]
  },
  {
   "cell_type": "code",
   "execution_count": 23,
   "metadata": {},
   "outputs": [
    {
     "data": {
      "text/html": [
       "<div>\n",
       "<style scoped>\n",
       "    .dataframe tbody tr th:only-of-type {\n",
       "        vertical-align: middle;\n",
       "    }\n",
       "\n",
       "    .dataframe tbody tr th {\n",
       "        vertical-align: top;\n",
       "    }\n",
       "\n",
       "    .dataframe thead th {\n",
       "        text-align: right;\n",
       "    }\n",
       "</style>\n",
       "<table border=\"1\" class=\"dataframe\">\n",
       "  <thead>\n",
       "    <tr style=\"text-align: right;\">\n",
       "      <th></th>\n",
       "      <th>id</th>\n",
       "      <th>public_metrics</th>\n",
       "    </tr>\n",
       "  </thead>\n",
       "  <tbody>\n",
       "    <tr>\n",
       "      <th>0</th>\n",
       "      <td>892420643555336193</td>\n",
       "      <td>{'retweet_count': 7076, 'reply_count': 144, 'l...</td>\n",
       "    </tr>\n",
       "    <tr>\n",
       "      <th>1</th>\n",
       "      <td>892420643555336193</td>\n",
       "      <td>{'retweet_count': 7076, 'reply_count': 144, 'l...</td>\n",
       "    </tr>\n",
       "    <tr>\n",
       "      <th>2</th>\n",
       "      <td>892177421306343426</td>\n",
       "      <td>{'retweet_count': 5344, 'reply_count': 172, 'l...</td>\n",
       "    </tr>\n",
       "    <tr>\n",
       "      <th>3</th>\n",
       "      <td>892177421306343426</td>\n",
       "      <td>{'retweet_count': 5344, 'reply_count': 172, 'l...</td>\n",
       "    </tr>\n",
       "    <tr>\n",
       "      <th>4</th>\n",
       "      <td>891815181378084864</td>\n",
       "      <td>{'retweet_count': 3514, 'reply_count': 110, 'l...</td>\n",
       "    </tr>\n",
       "  </tbody>\n",
       "</table>\n",
       "</div>"
      ],
      "text/plain": [
       "                   id                                     public_metrics\n",
       "0  892420643555336193  {'retweet_count': 7076, 'reply_count': 144, 'l...\n",
       "1  892420643555336193  {'retweet_count': 7076, 'reply_count': 144, 'l...\n",
       "2  892177421306343426  {'retweet_count': 5344, 'reply_count': 172, 'l...\n",
       "3  892177421306343426  {'retweet_count': 5344, 'reply_count': 172, 'l...\n",
       "4  891815181378084864  {'retweet_count': 3514, 'reply_count': 110, 'l..."
      ]
     },
     "execution_count": 23,
     "metadata": {},
     "output_type": "execute_result"
    }
   ],
   "source": [
    "tweet_data.head()"
   ]
  },
  {
   "cell_type": "code",
   "execution_count": 24,
   "metadata": {},
   "outputs": [
    {
     "data": {
      "text/html": [
       "<div>\n",
       "<style scoped>\n",
       "    .dataframe tbody tr th:only-of-type {\n",
       "        vertical-align: middle;\n",
       "    }\n",
       "\n",
       "    .dataframe tbody tr th {\n",
       "        vertical-align: top;\n",
       "    }\n",
       "\n",
       "    .dataframe thead th {\n",
       "        text-align: right;\n",
       "    }\n",
       "</style>\n",
       "<table border=\"1\" class=\"dataframe\">\n",
       "  <thead>\n",
       "    <tr style=\"text-align: right;\">\n",
       "      <th></th>\n",
       "      <th>tweet_id</th>\n",
       "      <th>in_reply_to_status_id</th>\n",
       "      <th>in_reply_to_user_id</th>\n",
       "      <th>timestamp</th>\n",
       "      <th>source</th>\n",
       "      <th>text</th>\n",
       "      <th>retweeted_status_id</th>\n",
       "      <th>retweeted_status_user_id</th>\n",
       "      <th>retweeted_status_timestamp</th>\n",
       "      <th>expanded_urls</th>\n",
       "      <th>rating_numerator</th>\n",
       "      <th>rating_denominator</th>\n",
       "      <th>name</th>\n",
       "      <th>doggo</th>\n",
       "      <th>floofer</th>\n",
       "      <th>pupper</th>\n",
       "      <th>puppo</th>\n",
       "    </tr>\n",
       "  </thead>\n",
       "  <tbody>\n",
       "  </tbody>\n",
       "</table>\n",
       "</div>"
      ],
      "text/plain": [
       "Empty DataFrame\n",
       "Columns: [tweet_id, in_reply_to_status_id, in_reply_to_user_id, timestamp, source, text, retweeted_status_id, retweeted_status_user_id, retweeted_status_timestamp, expanded_urls, rating_numerator, rating_denominator, name, doggo, floofer, pupper, puppo]\n",
       "Index: []"
      ]
     },
     "execution_count": 24,
     "metadata": {},
     "output_type": "execute_result"
    }
   ],
   "source": [
    "archive_data[archive_data.duplicated()]"
   ]
  },
  {
   "cell_type": "code",
   "execution_count": 25,
   "metadata": {},
   "outputs": [
    {
     "data": {
      "text/html": [
       "<div>\n",
       "<style scoped>\n",
       "    .dataframe tbody tr th:only-of-type {\n",
       "        vertical-align: middle;\n",
       "    }\n",
       "\n",
       "    .dataframe tbody tr th {\n",
       "        vertical-align: top;\n",
       "    }\n",
       "\n",
       "    .dataframe thead th {\n",
       "        text-align: right;\n",
       "    }\n",
       "</style>\n",
       "<table border=\"1\" class=\"dataframe\">\n",
       "  <thead>\n",
       "    <tr style=\"text-align: right;\">\n",
       "      <th></th>\n",
       "      <th>tweet_id</th>\n",
       "      <th>jpg_url</th>\n",
       "      <th>img_num</th>\n",
       "      <th>p1</th>\n",
       "      <th>p1_conf</th>\n",
       "      <th>p1_dog</th>\n",
       "      <th>p2</th>\n",
       "      <th>p2_conf</th>\n",
       "      <th>p2_dog</th>\n",
       "      <th>p3</th>\n",
       "      <th>p3_conf</th>\n",
       "      <th>p3_dog</th>\n",
       "    </tr>\n",
       "  </thead>\n",
       "  <tbody>\n",
       "  </tbody>\n",
       "</table>\n",
       "</div>"
      ],
      "text/plain": [
       "Empty DataFrame\n",
       "Columns: [tweet_id, jpg_url, img_num, p1, p1_conf, p1_dog, p2, p2_conf, p2_dog, p3, p3_conf, p3_dog]\n",
       "Index: []"
      ]
     },
     "execution_count": 25,
     "metadata": {},
     "output_type": "execute_result"
    }
   ],
   "source": [
    "tweet_image_prediction[tweet_image_prediction.duplicated()]"
   ]
  },
  {
   "cell_type": "code",
   "execution_count": null,
   "metadata": {},
   "outputs": [],
   "source": []
  },
  {
   "cell_type": "markdown",
   "metadata": {},
   "source": [
    "### Quality issues\n",
    "1.Fixing data types for archive data columns such as timestamp\n",
    "\n",
    "2.Drop columns such as inreply to status id, inreply user id,retweeted status id, retweeted user id, retweeted timestap for archive data table\n",
    "\n",
    "3.Expand urls columns got null values,duplicated values and some urls are not  properly defined (repeated urls in the same link)\n",
    "\n",
    "4.Fixing lower case letter to uppercase for first letter for p1, p2, p3 columns in tweet_image_prediction table\n",
    "\n",
    "5.The source column in archive data table needs to be addressed as it got some unknown characters commonly notated across all the rows. That needs to be taken care of.\n",
    "\n",
    "6.The text data column in archive data table needs to be cleaned as it got some unnecessary sentences after the second sentence.\n",
    "\n",
    "7.The name column in archive data table consists of single valued characters as  well as none values. This needs to be addressed."
   ]
  },
  {
   "cell_type": "markdown",
   "metadata": {
    "extensions": {
     "jupyter_dashboards": {
      "version": 1,
      "views": {
       "grid_default": {
        "col": 0,
        "height": 7,
        "hidden": false,
        "row": 40,
        "width": 12
       },
       "report_default": {
        "hidden": false
       }
      }
     }
    }
   },
   "source": [
    "### Tidiness issues\n",
    "1.Merging all dog stage columns into single column\n",
    "\n",
    "2.The public_metrics column from  tweet_data table is not meeting the requiremnets of tidiness i.e.The retweet count,favorite count and like count needs to be in seperrate columns to meet the requirements of tidiness.\n",
    "There are three requirements for tidiness.\n",
    "\n",
    "Each variable forms a column\n",
    "Each observation forms a row\n",
    "Each type of observational unit forms a table\n",
    "\n"
   ]
  },
  {
   "cell_type": "markdown",
   "metadata": {
    "extensions": {
     "jupyter_dashboards": {
      "version": 1,
      "views": {
       "grid_default": {
        "col": 4,
        "height": 4,
        "hidden": false,
        "row": 32,
        "width": 4
       },
       "report_default": {
        "hidden": false
       }
      }
     }
    }
   },
   "source": [
    "## Cleaning Data\n",
    "In this section, clean **all** of the issues you documented while assessing. \n",
    "\n",
    "**Note:** Make a copy of the original data before cleaning. Cleaning includes merging individual pieces of data according to the rules of [tidy data](https://cran.r-project.org/web/packages/tidyr/vignettes/tidy-data.html). The result should be a high-quality and tidy master pandas DataFrame (or DataFrames, if appropriate)."
   ]
  },
  {
   "cell_type": "code",
   "execution_count": 26,
   "metadata": {},
   "outputs": [],
   "source": [
    "# Make copies of original pieces of data\n",
    "archive_data_clean = archive_data.copy()\n",
    "tweet_image_prediction_clean = tweet_image_prediction.copy()\n",
    "tweet_data_clean = tweet_data.copy()\n"
   ]
  },
  {
   "cell_type": "markdown",
   "metadata": {},
   "source": [
    "### Issue #1:Fixing data type for archive data table column such as timestamp."
   ]
  },
  {
   "cell_type": "markdown",
   "metadata": {},
   "source": [
    "#### Define: \n",
    "Convert timestamp column from object type to datetime type."
   ]
  },
  {
   "cell_type": "markdown",
   "metadata": {},
   "source": [
    "#### Code"
   ]
  },
  {
   "cell_type": "code",
   "execution_count": 27,
   "metadata": {},
   "outputs": [],
   "source": [
    "archive_data_clean['timestamp']=pd.to_datetime(archive_data_clean['timestamp'])"
   ]
  },
  {
   "cell_type": "markdown",
   "metadata": {},
   "source": [
    "#### Test"
   ]
  },
  {
   "cell_type": "code",
   "execution_count": 28,
   "metadata": {},
   "outputs": [
    {
     "name": "stdout",
     "output_type": "stream",
     "text": [
      "<class 'pandas.core.frame.DataFrame'>\n",
      "RangeIndex: 2356 entries, 0 to 2355\n",
      "Data columns (total 17 columns):\n",
      "tweet_id                      2356 non-null int64\n",
      "in_reply_to_status_id         78 non-null float64\n",
      "in_reply_to_user_id           78 non-null float64\n",
      "timestamp                     2356 non-null datetime64[ns]\n",
      "source                        2356 non-null object\n",
      "text                          2356 non-null object\n",
      "retweeted_status_id           181 non-null float64\n",
      "retweeted_status_user_id      181 non-null float64\n",
      "retweeted_status_timestamp    181 non-null object\n",
      "expanded_urls                 2297 non-null object\n",
      "rating_numerator              2356 non-null int64\n",
      "rating_denominator            2356 non-null int64\n",
      "name                          2356 non-null object\n",
      "doggo                         2356 non-null object\n",
      "floofer                       2356 non-null object\n",
      "pupper                        2356 non-null object\n",
      "puppo                         2356 non-null object\n",
      "dtypes: datetime64[ns](1), float64(4), int64(3), object(9)\n",
      "memory usage: 313.0+ KB\n"
     ]
    }
   ],
   "source": [
    "archive_data_clean.info()"
   ]
  },
  {
   "cell_type": "markdown",
   "metadata": {},
   "source": [
    "### Issue #2: Addressing null values related to some coulmns in archive data table"
   ]
  },
  {
   "cell_type": "markdown",
   "metadata": {
    "collapsed": true,
    "extensions": {
     "jupyter_dashboards": {
      "version": 1,
      "views": {
       "grid_default": {
        "hidden": true
       },
       "report_default": {
        "hidden": true
       }
      }
     }
    }
   },
   "source": [
    "#### Define\n",
    "Drop columns such as inreply to status id, inreply user id,retweeted status id, retweeted user id, retweeted timestap for archive data table"
   ]
  },
  {
   "cell_type": "markdown",
   "metadata": {},
   "source": [
    "#### Code"
   ]
  },
  {
   "cell_type": "code",
   "execution_count": 29,
   "metadata": {},
   "outputs": [],
   "source": [
    "archive_data_clean.drop(['in_reply_to_status_id','in_reply_to_user_id','retweeted_status_id','retweeted_status_user_id','retweeted_status_timestamp'],axis=1,inplace=True)"
   ]
  },
  {
   "cell_type": "markdown",
   "metadata": {},
   "source": [
    "#### Test"
   ]
  },
  {
   "cell_type": "code",
   "execution_count": 30,
   "metadata": {},
   "outputs": [
    {
     "name": "stdout",
     "output_type": "stream",
     "text": [
      "<class 'pandas.core.frame.DataFrame'>\n",
      "RangeIndex: 2356 entries, 0 to 2355\n",
      "Data columns (total 12 columns):\n",
      "tweet_id              2356 non-null int64\n",
      "timestamp             2356 non-null datetime64[ns]\n",
      "source                2356 non-null object\n",
      "text                  2356 non-null object\n",
      "expanded_urls         2297 non-null object\n",
      "rating_numerator      2356 non-null int64\n",
      "rating_denominator    2356 non-null int64\n",
      "name                  2356 non-null object\n",
      "doggo                 2356 non-null object\n",
      "floofer               2356 non-null object\n",
      "pupper                2356 non-null object\n",
      "puppo                 2356 non-null object\n",
      "dtypes: datetime64[ns](1), int64(3), object(8)\n",
      "memory usage: 221.0+ KB\n"
     ]
    }
   ],
   "source": [
    "archive_data_clean.info()"
   ]
  },
  {
   "cell_type": "markdown",
   "metadata": {},
   "source": [
    "### Issue #3: Expand urls columns got null values,duplicated values and some urls are not  properly defined (repeated urls in the same link)"
   ]
  },
  {
   "cell_type": "markdown",
   "metadata": {},
   "source": [
    "#### Define\n",
    "The urls which got repeated needs to be seperated out using pandas split function.Null values and duplicated rows needs to be removed."
   ]
  },
  {
   "cell_type": "code",
   "execution_count": 31,
   "metadata": {},
   "outputs": [],
   "source": [
    "archive_data_clean['expanded_urls']=archive_data_clean['expanded_urls'].str.split(',',expand =True)"
   ]
  },
  {
   "cell_type": "code",
   "execution_count": 32,
   "metadata": {},
   "outputs": [],
   "source": [
    "archive_data_clean = archive_data_clean[~(archive_data_clean.expanded_urls.duplicated()) & archive_data_clean.expanded_urls.notnull()]"
   ]
  },
  {
   "cell_type": "markdown",
   "metadata": {},
   "source": [
    "#### Test"
   ]
  },
  {
   "cell_type": "code",
   "execution_count": 33,
   "metadata": {},
   "outputs": [
    {
     "name": "stdout",
     "output_type": "stream",
     "text": [
      "<class 'pandas.core.frame.DataFrame'>\n",
      "Int64Index: 2140 entries, 0 to 2355\n",
      "Data columns (total 12 columns):\n",
      "tweet_id              2140 non-null int64\n",
      "timestamp             2140 non-null datetime64[ns]\n",
      "source                2140 non-null object\n",
      "text                  2140 non-null object\n",
      "expanded_urls         2140 non-null object\n",
      "rating_numerator      2140 non-null int64\n",
      "rating_denominator    2140 non-null int64\n",
      "name                  2140 non-null object\n",
      "doggo                 2140 non-null object\n",
      "floofer               2140 non-null object\n",
      "pupper                2140 non-null object\n",
      "puppo                 2140 non-null object\n",
      "dtypes: datetime64[ns](1), int64(3), object(8)\n",
      "memory usage: 217.3+ KB\n"
     ]
    }
   ],
   "source": [
    "archive_data_clean.info()"
   ]
  },
  {
   "cell_type": "markdown",
   "metadata": {},
   "source": [
    "### Issue #4:Fixing lower case letter to uppercase for first letter for p1, p2, p3 columns in tweet_image_prediction table"
   ]
  },
  {
   "cell_type": "markdown",
   "metadata": {},
   "source": [
    "#### Define\n",
    "Use str.lower() function convert the column values to lower case."
   ]
  },
  {
   "cell_type": "code",
   "execution_count": 34,
   "metadata": {},
   "outputs": [],
   "source": [
    "tweet_image_prediction_clean['p1']=tweet_image_prediction_clean['p1'].str.lower()\n",
    "tweet_image_prediction_clean['p2']=tweet_image_prediction_clean['p2'].str.lower()\n",
    "tweet_image_prediction_clean['p3']=tweet_image_prediction_clean['p3'].str.lower()"
   ]
  },
  {
   "cell_type": "markdown",
   "metadata": {},
   "source": [
    "#### Test"
   ]
  },
  {
   "cell_type": "code",
   "execution_count": 35,
   "metadata": {},
   "outputs": [
    {
     "data": {
      "text/html": [
       "<div>\n",
       "<style scoped>\n",
       "    .dataframe tbody tr th:only-of-type {\n",
       "        vertical-align: middle;\n",
       "    }\n",
       "\n",
       "    .dataframe tbody tr th {\n",
       "        vertical-align: top;\n",
       "    }\n",
       "\n",
       "    .dataframe thead th {\n",
       "        text-align: right;\n",
       "    }\n",
       "</style>\n",
       "<table border=\"1\" class=\"dataframe\">\n",
       "  <thead>\n",
       "    <tr style=\"text-align: right;\">\n",
       "      <th></th>\n",
       "      <th>p1</th>\n",
       "      <th>p2</th>\n",
       "      <th>p3</th>\n",
       "    </tr>\n",
       "  </thead>\n",
       "  <tbody>\n",
       "    <tr>\n",
       "      <th>1976</th>\n",
       "      <td>greater_swiss_mountain_dog</td>\n",
       "      <td>appenzeller</td>\n",
       "      <td>entlebucher</td>\n",
       "    </tr>\n",
       "    <tr>\n",
       "      <th>1253</th>\n",
       "      <td>paddle</td>\n",
       "      <td>shovel</td>\n",
       "      <td>mountain_tent</td>\n",
       "    </tr>\n",
       "    <tr>\n",
       "      <th>549</th>\n",
       "      <td>staffordshire_bullterrier</td>\n",
       "      <td>norwegian_elkhound</td>\n",
       "      <td>american_staffordshire_terrier</td>\n",
       "    </tr>\n",
       "    <tr>\n",
       "      <th>523</th>\n",
       "      <td>boston_bull</td>\n",
       "      <td>french_bulldog</td>\n",
       "      <td>chihuahua</td>\n",
       "    </tr>\n",
       "    <tr>\n",
       "      <th>1561</th>\n",
       "      <td>afghan_hound</td>\n",
       "      <td>borzoi</td>\n",
       "      <td>doormat</td>\n",
       "    </tr>\n",
       "    <tr>\n",
       "      <th>402</th>\n",
       "      <td>porcupine</td>\n",
       "      <td>hen</td>\n",
       "      <td>doormat</td>\n",
       "    </tr>\n",
       "    <tr>\n",
       "      <th>397</th>\n",
       "      <td>labrador_retriever</td>\n",
       "      <td>beagle</td>\n",
       "      <td>golden_retriever</td>\n",
       "    </tr>\n",
       "    <tr>\n",
       "      <th>354</th>\n",
       "      <td>kuvasz</td>\n",
       "      <td>great_pyrenees</td>\n",
       "      <td>golden_retriever</td>\n",
       "    </tr>\n",
       "    <tr>\n",
       "      <th>1902</th>\n",
       "      <td>pencil_box</td>\n",
       "      <td>purse</td>\n",
       "      <td>pillow</td>\n",
       "    </tr>\n",
       "    <tr>\n",
       "      <th>1595</th>\n",
       "      <td>west_highland_white_terrier</td>\n",
       "      <td>cairn</td>\n",
       "      <td>norfolk_terrier</td>\n",
       "    </tr>\n",
       "    <tr>\n",
       "      <th>1098</th>\n",
       "      <td>pembroke</td>\n",
       "      <td>cardigan</td>\n",
       "      <td>eskimo_dog</td>\n",
       "    </tr>\n",
       "    <tr>\n",
       "      <th>824</th>\n",
       "      <td>vizsla</td>\n",
       "      <td>chesapeake_bay_retriever</td>\n",
       "      <td>rhodesian_ridgeback</td>\n",
       "    </tr>\n",
       "    <tr>\n",
       "      <th>1862</th>\n",
       "      <td>tub</td>\n",
       "      <td>bucket</td>\n",
       "      <td>labrador_retriever</td>\n",
       "    </tr>\n",
       "    <tr>\n",
       "      <th>1780</th>\n",
       "      <td>golden_retriever</td>\n",
       "      <td>chesapeake_bay_retriever</td>\n",
       "      <td>vizsla</td>\n",
       "    </tr>\n",
       "    <tr>\n",
       "      <th>595</th>\n",
       "      <td>chihuahua</td>\n",
       "      <td>black-footed_ferret</td>\n",
       "      <td>squirrel_monkey</td>\n",
       "    </tr>\n",
       "    <tr>\n",
       "      <th>1139</th>\n",
       "      <td>german_shepherd</td>\n",
       "      <td>doberman</td>\n",
       "      <td>basenji</td>\n",
       "    </tr>\n",
       "    <tr>\n",
       "      <th>743</th>\n",
       "      <td>wood_rabbit</td>\n",
       "      <td>angora</td>\n",
       "      <td>hare</td>\n",
       "    </tr>\n",
       "    <tr>\n",
       "      <th>104</th>\n",
       "      <td>miniature_pinscher</td>\n",
       "      <td>bath_towel</td>\n",
       "      <td>chihuahua</td>\n",
       "    </tr>\n",
       "    <tr>\n",
       "      <th>1654</th>\n",
       "      <td>staffordshire_bullterrier</td>\n",
       "      <td>american_staffordshire_terrier</td>\n",
       "      <td>border_terrier</td>\n",
       "    </tr>\n",
       "    <tr>\n",
       "      <th>467</th>\n",
       "      <td>samoyed</td>\n",
       "      <td>chow</td>\n",
       "      <td>pomeranian</td>\n",
       "    </tr>\n",
       "    <tr>\n",
       "      <th>1752</th>\n",
       "      <td>pembroke</td>\n",
       "      <td>cardigan</td>\n",
       "      <td>basenji</td>\n",
       "    </tr>\n",
       "    <tr>\n",
       "      <th>1635</th>\n",
       "      <td>chow</td>\n",
       "      <td>pomeranian</td>\n",
       "      <td>eskimo_dog</td>\n",
       "    </tr>\n",
       "    <tr>\n",
       "      <th>1989</th>\n",
       "      <td>labrador_retriever</td>\n",
       "      <td>chesapeake_bay_retriever</td>\n",
       "      <td>german_short-haired_pointer</td>\n",
       "    </tr>\n",
       "    <tr>\n",
       "      <th>124</th>\n",
       "      <td>chow</td>\n",
       "      <td>minivan</td>\n",
       "      <td>pekinese</td>\n",
       "    </tr>\n",
       "    <tr>\n",
       "      <th>1896</th>\n",
       "      <td>tennis_ball</td>\n",
       "      <td>kelpie</td>\n",
       "      <td>malinois</td>\n",
       "    </tr>\n",
       "    <tr>\n",
       "      <th>724</th>\n",
       "      <td>great_dane</td>\n",
       "      <td>irish_wolfhound</td>\n",
       "      <td>greater_swiss_mountain_dog</td>\n",
       "    </tr>\n",
       "    <tr>\n",
       "      <th>454</th>\n",
       "      <td>samoyed</td>\n",
       "      <td>arctic_fox</td>\n",
       "      <td>kuvasz</td>\n",
       "    </tr>\n",
       "    <tr>\n",
       "      <th>1874</th>\n",
       "      <td>dandie_dinmont</td>\n",
       "      <td>maltese_dog</td>\n",
       "      <td>west_highland_white_terrier</td>\n",
       "    </tr>\n",
       "    <tr>\n",
       "      <th>1636</th>\n",
       "      <td>cardigan</td>\n",
       "      <td>shetland_sheepdog</td>\n",
       "      <td>pembroke</td>\n",
       "    </tr>\n",
       "    <tr>\n",
       "      <th>1105</th>\n",
       "      <td>great_dane</td>\n",
       "      <td>greater_swiss_mountain_dog</td>\n",
       "      <td>weimaraner</td>\n",
       "    </tr>\n",
       "    <tr>\n",
       "      <th>287</th>\n",
       "      <td>labrador_retriever</td>\n",
       "      <td>chesapeake_bay_retriever</td>\n",
       "      <td>golden_retriever</td>\n",
       "    </tr>\n",
       "    <tr>\n",
       "      <th>652</th>\n",
       "      <td>schipperke</td>\n",
       "      <td>groenendael</td>\n",
       "      <td>miniature_pinscher</td>\n",
       "    </tr>\n",
       "    <tr>\n",
       "      <th>1470</th>\n",
       "      <td>toy_poodle</td>\n",
       "      <td>soft-coated_wheaten_terrier</td>\n",
       "      <td>cocker_spaniel</td>\n",
       "    </tr>\n",
       "    <tr>\n",
       "      <th>2004</th>\n",
       "      <td>saluki</td>\n",
       "      <td>italian_greyhound</td>\n",
       "      <td>golden_retriever</td>\n",
       "    </tr>\n",
       "    <tr>\n",
       "      <th>1663</th>\n",
       "      <td>golden_retriever</td>\n",
       "      <td>cocker_spaniel</td>\n",
       "      <td>labrador_retriever</td>\n",
       "    </tr>\n",
       "  </tbody>\n",
       "</table>\n",
       "</div>"
      ],
      "text/plain": [
       "                               p1                              p2  \\\n",
       "1976   greater_swiss_mountain_dog                     appenzeller   \n",
       "1253                       paddle                          shovel   \n",
       "549     staffordshire_bullterrier              norwegian_elkhound   \n",
       "523                   boston_bull                  french_bulldog   \n",
       "1561                 afghan_hound                          borzoi   \n",
       "402                     porcupine                             hen   \n",
       "397            labrador_retriever                          beagle   \n",
       "354                        kuvasz                  great_pyrenees   \n",
       "1902                   pencil_box                           purse   \n",
       "1595  west_highland_white_terrier                           cairn   \n",
       "1098                     pembroke                        cardigan   \n",
       "824                        vizsla        chesapeake_bay_retriever   \n",
       "1862                          tub                          bucket   \n",
       "1780             golden_retriever        chesapeake_bay_retriever   \n",
       "595                     chihuahua             black-footed_ferret   \n",
       "1139              german_shepherd                        doberman   \n",
       "743                   wood_rabbit                          angora   \n",
       "104            miniature_pinscher                      bath_towel   \n",
       "1654    staffordshire_bullterrier  american_staffordshire_terrier   \n",
       "467                       samoyed                            chow   \n",
       "1752                     pembroke                        cardigan   \n",
       "1635                         chow                      pomeranian   \n",
       "1989           labrador_retriever        chesapeake_bay_retriever   \n",
       "124                          chow                         minivan   \n",
       "1896                  tennis_ball                          kelpie   \n",
       "724                    great_dane                 irish_wolfhound   \n",
       "454                       samoyed                      arctic_fox   \n",
       "1874               dandie_dinmont                     maltese_dog   \n",
       "1636                     cardigan               shetland_sheepdog   \n",
       "1105                   great_dane      greater_swiss_mountain_dog   \n",
       "287            labrador_retriever        chesapeake_bay_retriever   \n",
       "652                    schipperke                     groenendael   \n",
       "1470                   toy_poodle     soft-coated_wheaten_terrier   \n",
       "2004                       saluki               italian_greyhound   \n",
       "1663             golden_retriever                  cocker_spaniel   \n",
       "\n",
       "                                  p3  \n",
       "1976                     entlebucher  \n",
       "1253                   mountain_tent  \n",
       "549   american_staffordshire_terrier  \n",
       "523                        chihuahua  \n",
       "1561                         doormat  \n",
       "402                          doormat  \n",
       "397                 golden_retriever  \n",
       "354                 golden_retriever  \n",
       "1902                          pillow  \n",
       "1595                 norfolk_terrier  \n",
       "1098                      eskimo_dog  \n",
       "824              rhodesian_ridgeback  \n",
       "1862              labrador_retriever  \n",
       "1780                          vizsla  \n",
       "595                  squirrel_monkey  \n",
       "1139                         basenji  \n",
       "743                             hare  \n",
       "104                        chihuahua  \n",
       "1654                  border_terrier  \n",
       "467                       pomeranian  \n",
       "1752                         basenji  \n",
       "1635                      eskimo_dog  \n",
       "1989     german_short-haired_pointer  \n",
       "124                         pekinese  \n",
       "1896                        malinois  \n",
       "724       greater_swiss_mountain_dog  \n",
       "454                           kuvasz  \n",
       "1874     west_highland_white_terrier  \n",
       "1636                        pembroke  \n",
       "1105                      weimaraner  \n",
       "287                 golden_retriever  \n",
       "652               miniature_pinscher  \n",
       "1470                  cocker_spaniel  \n",
       "2004                golden_retriever  \n",
       "1663              labrador_retriever  "
      ]
     },
     "execution_count": 35,
     "metadata": {},
     "output_type": "execute_result"
    }
   ],
   "source": [
    "tweet_image_prediction_clean[['p1','p2','p3']].sample(35)"
   ]
  },
  {
   "cell_type": "markdown",
   "metadata": {},
   "source": [
    "### Issue #5.The source column in archive data table got unknown characters"
   ]
  },
  {
   "cell_type": "markdown",
   "metadata": {},
   "source": [
    "#### Define\n",
    "The source column in archive data table needs to be addressed as it got some unknown characters commonly notated across all the rows. using str fuction extarct the characters"
   ]
  },
  {
   "cell_type": "code",
   "execution_count": 36,
   "metadata": {
    "scrolled": false
   },
   "outputs": [],
   "source": [
    "archive_data_clean['source']=archive_data_clean['source'].str.strip('<a href=')\n",
    "archive_data_clean['source']=archive_data_clean['source'].str.replace('rel=\"nofollow\"',\"\")\n",
    "import re\n",
    "def remove_tags(string):\n",
    "    result = re.sub('<.*?>','',string)\n",
    "    return result\n",
    "archive_data_clean['source']=archive_data_clean['source'].apply(lambda x : remove_tags(x))\n",
    "archive_data_clean['source']=archive_data_clean['source'].str.split('>',expand=True)\n",
    "archive_data_clean['source']=archive_data_clean['source'].str.replace('\"',\"\")"
   ]
  },
  {
   "cell_type": "markdown",
   "metadata": {},
   "source": [
    "#### Test"
   ]
  },
  {
   "cell_type": "code",
   "execution_count": 37,
   "metadata": {},
   "outputs": [
    {
     "data": {
      "text/plain": [
       "http://twitter.com/download/iphone               2022\n",
       "http://vine.co                                     78\n",
       "http://twitter.com                                 30\n",
       "https://about.twitter.com/products/tweetdeck       10\n",
       "Name: source, dtype: int64"
      ]
     },
     "execution_count": 37,
     "metadata": {},
     "output_type": "execute_result"
    }
   ],
   "source": [
    "archive_data_clean['source'].value_counts()"
   ]
  },
  {
   "cell_type": "markdown",
   "metadata": {},
   "source": [
    "### Issue #6.The text column in archive data table got unknown characters and  image url links"
   ]
  },
  {
   "cell_type": "markdown",
   "metadata": {},
   "source": [
    "#### Define\n",
    "\n",
    "Extract image url link from text data using str.extarct and put all url links in aseperate column called image_url. Replace all null values with string unknown. Using str.replace and str.spli fuctions replavce all unnecessary characters and numbers fro mthe text."
   ]
  },
  {
   "cell_type": "code",
   "execution_count": 38,
   "metadata": {},
   "outputs": [],
   "source": [
    "pattern = r'(https?:\\/\\/(?:www\\.)?[-a-zA-Z0-9@:%._+~#=]{1,256}\\.[a-zA-Z0-9()]{1,6}[-a-zA-Z0-9()@:%_+.~#?&/=]*)' \n",
    "archive_data_clean['image_url']= archive_data_clean['text'].str.extract(pattern, expand=True)\n",
    "archive_data_clean['image_url']=archive_data_clean['image_url'].fillna('unknown')\n",
    "archive_data_clean['text']=archive_data_clean['text'].str.split(pattern,expand=True)\n",
    "archive_data_clean['text']=archive_data_clean['text'].str.replace('\\d+', '')\n",
    "archive_data_clean['text']=archive_data_clean['text'].str.replace('/',\"\")\n",
    "archive_data_clean['text']=archive_data_clean['text'].str.split(\"#\",expand=True)"
   ]
  },
  {
   "cell_type": "markdown",
   "metadata": {},
   "source": [
    "#### Test"
   ]
  },
  {
   "cell_type": "code",
   "execution_count": 39,
   "metadata": {},
   "outputs": [
    {
     "data": {
      "text/plain": [
       "485     RT @dog_rates: Meet Beau &amp; Wilbur. Wilbur ...\n",
       "1049    This is a very rare Great Alaskan Bush Pupper....\n",
       "1221      This is Blitz. He screams.  (vid by @yeaahliv) \n",
       "1735    This is Hunter. He was playing with his ball m...\n",
       "2098    This is Jeffrie. He's a handheld pup. Excellen...\n",
       "74      RT @dog_rates: Meet Terrance. He's being yelle...\n",
       "2334    This is a funny dog. Weird toes. Won't come do...\n",
       "1629    This is Bobby. He doesn't give a damn about pe...\n",
       "1581    Say hello to Samson. He's a Firecracker Häagen...\n",
       "1368    This is a Wild Tuscan Poofwiggle. Careful not ...\n",
       "557     Meet Sonny. He's an in-home movie critic. That...\n",
       "320     Meet Chester (bottom) &amp; Harold (top). They...\n",
       "1549    This is Ferg. He swallowed a chainsaw.  like =...\n",
       "758     RIP Loki. Thank you for the good times. You wi...\n",
       "2183    This is Bernie. He's taking his Halloween cost...\n",
       "187     This is Cermet, Paesh, and Morple. They are ab...\n",
       "484     This is Olivia. She's a passionate advocate of...\n",
       "1955    This is a Lofted Aphrodisiac Terrier named Kip...\n",
       "515     This is Craig. That's actually a normal sized ...\n",
       "21      This is Jeffrey. He has a monopoly on the pool...\n",
       "19      RT @dog_rates: This is Canela. She attempted s...\n",
       "1126    Say hello to Ollie. He conducts this train. He...\n",
       "1674    Meet Jax. He's an Iglesias Hufflepoof. Quite t...\n",
       "2157    Special dog here. Pretty big. Neck kinda long ...\n",
       "2094                         \"To bone or not to bone?\"\\n \n",
       "410     This is Wyatt. He's got the fastest paws in th...\n",
       "894     This is Luna. She's just heckin precious af I ...\n",
       "236     This is Furzey. He's doing an elevated sandy z...\n",
       "2313    This is Lugan. He is a Bohemian Rhapsody. Very...\n",
       "1188    This pic is old but I hadn't seen it until tod...\n",
       "                              ...                        \n",
       "1507    This is Richie and Plip. They are the best of ...\n",
       "341     RT @dog_rates: This is Moreton. He's the Good ...\n",
       "1924    Say hello to Mitch. He thinks that's a hat. No...\n",
       "674     This is Brownie. She's wearing a Halloween the...\n",
       "1997    Lots of pups here. All are Judea Hazelnuts. Ex...\n",
       "749     RT @dog_rates: Meet Hurley. He's the curly one...\n",
       "508     I'm happy to inform you all that Jake is in ex...\n",
       "1404    Say hello to Calbert. He doesn't have enough l...\n",
       "1257    This is Oshie.  please enjoy (vid by @catherin...\n",
       "2315    This is Christoper. He is a spotted Penne. Can...\n",
       "451     Meet Wafer. He represents every fiber of my be...\n",
       "1949    When you're having a blast and remember tomorr...\n",
       "825     This is Titan. He's trying to make friends. Of...\n",
       "1783    Endangered triangular pup here. Could be a wiz...\n",
       "1765    Say hello to Jerome. He can shoot french fries...\n",
       "310     RT @dog_rates: So this just changed my life.  ...\n",
       "2207    This is Timofy. He's a pilot for Southwest. It...\n",
       "1265    WeRateDogs stickers are here and they're ! Use...\n",
       "2186    Unique dog here. Oddly shaped tail. Long pink ...\n",
       "845     This is Shadoe. Her tongue flies out of her mo...\n",
       "1088    This is Remy. He has some long ass ears (proba...\n",
       "467     Name a more iconic quartet... I'll wait.  for ...\n",
       "1853    This is a Sizzlin Menorah spaniel from Brookly...\n",
       "2002    Say hello to Jazz. She should be on the cover ...\n",
       "428     This is Luca. He got caught howling. H*ckin em...\n",
       "1296    Meet Rufus. He's a Honeysuckle Firefox. Curly ...\n",
       "1831    This is Herm. He just wants to be like the oth...\n",
       "1526    This is Phred. He's an Albanian Flepperkush. T...\n",
       "2202    Fascinating dog here. Loves beach. Oddly long ...\n",
       "1800    This is Cooper. He doesn't know how cheese wor...\n",
       "Name: text, Length: 100, dtype: object"
      ]
     },
     "execution_count": 39,
     "metadata": {},
     "output_type": "execute_result"
    }
   ],
   "source": [
    "archive_data_clean['text'].sample(100)"
   ]
  },
  {
   "cell_type": "markdown",
   "metadata": {},
   "source": [
    "### Issue #7.The The name column in archive data table consists of single valued characters as  well as none values. "
   ]
  },
  {
   "cell_type": "markdown",
   "metadata": {},
   "source": [
    "### Define\n"
   ]
  },
  {
   "cell_type": "code",
   "execution_count": 40,
   "metadata": {},
   "outputs": [],
   "source": [
    "import numpy as np\n",
    "archive_data_clean['name']=archive_data_clean['name'].str.replace('None','')\n",
    "archive_data_clean['name']=archive_data_clean['name'].replace(r'^\\s*$', np.NaN, regex=True)\n",
    "archive_data_clean['name']=archive_data_clean['name'].str.lower()"
   ]
  },
  {
   "cell_type": "code",
   "execution_count": 41,
   "metadata": {},
   "outputs": [],
   "source": [
    "archive_data_clean['name']=archive_data_clean['name'].str.replace('a','unknown')\n",
    "archive_data_clean['name']=archive_data_clean['name'].str.replace('the','unknown')"
   ]
  },
  {
   "cell_type": "markdown",
   "metadata": {},
   "source": [
    "#### Test"
   ]
  },
  {
   "cell_type": "code",
   "execution_count": 42,
   "metadata": {},
   "outputs": [
    {
     "data": {
      "text/plain": [
       "unknown                62\n",
       "chunknownrlie          11\n",
       "lucy                   11\n",
       "cooper                 10\n",
       "oliver                 10\n",
       "penny                   9\n",
       "tucker                  9\n",
       "winston                 8\n",
       "lolunknown              8\n",
       "sunknowndie             8\n",
       "toby                    7\n",
       "dunknownisy             7\n",
       "bellunknown             6\n",
       "bo                      6\n",
       "stunknownnley           6\n",
       "junknownx               6\n",
       "bunknowniley            6\n",
       "oscunknownr             6\n",
       "kodunknown              6\n",
       "unknownn                6\n",
       "milo                    5\n",
       "scout                   5\n",
       "leo                     5\n",
       "rusty                   5\n",
       "louis                   5\n",
       "dunknownve              5\n",
       "chester                 5\n",
       "buddy                   5\n",
       "bentley                 5\n",
       "junknownck              4\n",
       "                       ..\n",
       "bruiser                 1\n",
       "butter                  1\n",
       "unknownrnold            1\n",
       "unknownce               1\n",
       "punknownblo             1\n",
       "jerome                  1\n",
       "crunknownig             1\n",
       "funknownbio             1\n",
       "lugunknownn             1\n",
       "dunknownnny             1\n",
       "dunknownyz              1\n",
       "runknownlphé            1\n",
       "nounknownh              1\n",
       "gunknownbby             1\n",
       "rumble                  1\n",
       "burt                    1\n",
       "jiminus                 1\n",
       "butters                 1\n",
       "bunknownrclunknowny     1\n",
       "buddunknownh            1\n",
       "livvie                  1\n",
       "emmie                   1\n",
       "lili                    1\n",
       "clunknownrq             1\n",
       "munknownrvin            1\n",
       "ole                     1\n",
       "storkson                1\n",
       "chunknowndrick          1\n",
       "sibunknown              1\n",
       "mojo                    1\n",
       "Name: name, Length: 955, dtype: int64"
      ]
     },
     "execution_count": 42,
     "metadata": {},
     "output_type": "execute_result"
    }
   ],
   "source": [
    "archive_data_clean['name'].value_counts()\n"
   ]
  },
  {
   "cell_type": "markdown",
   "metadata": {},
   "source": [
    "### Tidiness issues"
   ]
  },
  {
   "cell_type": "markdown",
   "metadata": {},
   "source": [
    "## Issue #1: Merging all dog stage columns into single column"
   ]
  },
  {
   "cell_type": "markdown",
   "metadata": {},
   "source": [
    "#### Define\n",
    "Create a new column dog_stage for archive_data table using extract function to extarct the data from text column.Alco concatenate all column values from floofer,puppo,pupper,doggo columns to get the dog type from those columns.Once we get the information to dog_stages drop all other dog stage columns using drop function."
   ]
  },
  {
   "cell_type": "code",
   "execution_count": 43,
   "metadata": {},
   "outputs": [],
   "source": [
    "archive_data_clean['dog_stages'] = archive_data_clean.text.str.extract('(doggo|floofer|pupper|puppo)', expand = True)\n",
    "archive_data_clean['dog_stages']=archive_data_clean['doggo']+archive_data_clean['floofer']+archive_data_clean['pupper']+archive_data_clean['puppo']\n",
    "archive_data_clean.drop(['doggo','floofer','pupper','puppo'],inplace=True,axis=1)\n"
   ]
  },
  {
   "cell_type": "markdown",
   "metadata": {},
   "source": [
    "#### Test"
   ]
  },
  {
   "cell_type": "code",
   "execution_count": 44,
   "metadata": {},
   "outputs": [
    {
     "data": {
      "text/plain": [
       "NoneNoneNoneNone        1798\n",
       "NoneNonepupperNone       226\n",
       "doggoNoneNoneNone         72\n",
       "NoneNoneNonepuppo         23\n",
       "doggoNonepupperNone       10\n",
       "NoneflooferNoneNone        9\n",
       "doggoflooferNoneNone       1\n",
       "doggoNoneNonepuppo         1\n",
       "Name: dog_stages, dtype: int64"
      ]
     },
     "execution_count": 44,
     "metadata": {},
     "output_type": "execute_result"
    }
   ],
   "source": [
    "archive_data_clean['dog_stages'].value_counts()"
   ]
  },
  {
   "cell_type": "markdown",
   "metadata": {},
   "source": [
    "## Issue #2: The public_metrics column from  tweet_data table is not meeting the requirements of tidiness"
   ]
  },
  {
   "cell_type": "markdown",
   "metadata": {},
   "source": [
    "#### Define\n",
    "The retweet count,favorite count and like count from public_metrics column needs to be in seperate columns to meet the requirements of tidiness.\n",
    "There are three requirements for tidiness.\n",
    "Each variable forms a column\n",
    "Each observation forms a row\n",
    "Each type of observational unit forms a table.\n",
    "To do that first convert dict type data to pandad dataframe using eval fucntion and convert to list using to_list.Once we get the pandas dataframe with all the columns seperated out  need to concatenate to the original dat frame using concat method. Drop the unnecessary columns dict from the original dataframe.\n",
    "Also merge the tweet_data table and archive data table as they belongs to same tweet data based on tweet_id.\n"
   ]
  },
  {
   "cell_type": "code",
   "execution_count": 45,
   "metadata": {},
   "outputs": [],
   "source": [
    "s = pd.Series(tweet_data_clean['public_metrics']).apply(eval)\n",
    "tweet_dict=pd.DataFrame(s.tolist(), columns=['retweet_count','reply_count','like_count','quote_count'])\n",
    "tweet_data_clean = pd.concat([tweet_data_clean, tweet_dict], axis=1)\n",
    "tweet_data_clean=tweet_data_clean.drop('public_metrics',axis=1)\n",
    "tweet_data_clean.drop_duplicates(inplace=True)"
   ]
  },
  {
   "cell_type": "markdown",
   "metadata": {},
   "source": [
    "#### Test"
   ]
  },
  {
   "cell_type": "code",
   "execution_count": 46,
   "metadata": {},
   "outputs": [
    {
     "name": "stdout",
     "output_type": "stream",
     "text": [
      "<class 'pandas.core.frame.DataFrame'>\n",
      "Int64Index: 2327 entries, 0 to 4652\n",
      "Data columns (total 5 columns):\n",
      "id               2327 non-null int64\n",
      "retweet_count    2327 non-null int64\n",
      "reply_count      2327 non-null int64\n",
      "like_count       2327 non-null int64\n",
      "quote_count      2327 non-null int64\n",
      "dtypes: int64(5)\n",
      "memory usage: 109.1 KB\n"
     ]
    },
    {
     "data": {
      "text/plain": [
       "0       False\n",
       "2       False\n",
       "4       False\n",
       "6       False\n",
       "8       False\n",
       "10      False\n",
       "12      False\n",
       "14      False\n",
       "16      False\n",
       "18      False\n",
       "20      False\n",
       "22      False\n",
       "24      False\n",
       "26      False\n",
       "28      False\n",
       "30      False\n",
       "32      False\n",
       "34      False\n",
       "36      False\n",
       "38      False\n",
       "40      False\n",
       "42      False\n",
       "44      False\n",
       "46      False\n",
       "48      False\n",
       "50      False\n",
       "52      False\n",
       "54      False\n",
       "56      False\n",
       "58      False\n",
       "        ...  \n",
       "4594    False\n",
       "4596    False\n",
       "4598    False\n",
       "4600    False\n",
       "4602    False\n",
       "4604    False\n",
       "4606    False\n",
       "4608    False\n",
       "4610    False\n",
       "4612    False\n",
       "4614    False\n",
       "4616    False\n",
       "4618    False\n",
       "4620    False\n",
       "4622    False\n",
       "4624    False\n",
       "4626    False\n",
       "4628    False\n",
       "4630    False\n",
       "4632    False\n",
       "4634    False\n",
       "4636    False\n",
       "4638    False\n",
       "4640    False\n",
       "4642    False\n",
       "4644    False\n",
       "4646    False\n",
       "4648    False\n",
       "4650    False\n",
       "4652    False\n",
       "Length: 2327, dtype: bool"
      ]
     },
     "execution_count": 46,
     "metadata": {},
     "output_type": "execute_result"
    }
   ],
   "source": [
    "tweet_data_clean.head()\n",
    "tweet_data_clean.info()\n",
    "tweet_data_clean.duplicated()"
   ]
  },
  {
   "cell_type": "markdown",
   "metadata": {},
   "source": [
    "### Quality Issues"
   ]
  },
  {
   "cell_type": "markdown",
   "metadata": {},
   "source": [
    "## Issue #8: Cleaning dog stage columns"
   ]
  },
  {
   "cell_type": "markdown",
   "metadata": {},
   "source": [
    "#### Define\n",
    "The dog_stage column consists of values with 'None' strings. This needs to be removed using str.replace. Handling mutiple dog stages values in some  columns using loc and redefine those values seperately for all multiple dog stage columns.Replace all empty valued dog stage column to null values using regex."
   ]
  },
  {
   "cell_type": "code",
   "execution_count": 47,
   "metadata": {},
   "outputs": [
    {
     "name": "stderr",
     "output_type": "stream",
     "text": [
      "/opt/conda/lib/python3.6/site-packages/pandas/core/indexing.py:189: SettingWithCopyWarning: \n",
      "A value is trying to be set on a copy of a slice from a DataFrame\n",
      "\n",
      "See the caveats in the documentation: http://pandas.pydata.org/pandas-docs/stable/indexing.html#indexing-view-versus-copy\n",
      "  self._setitem_with_indexer(indexer, value)\n"
     ]
    }
   ],
   "source": [
    "archive_data_clean['dog_stages']=archive_data_clean['dog_stages'].str.replace('None', '')\n",
    "archive_data_clean['dog_stages'].loc[archive_data_clean.dog_stages == 'doggopupper'] = 'doggo pupper'\n",
    "archive_data_clean['dog_stages'].loc[archive_data_clean.dog_stages == 'doggopuppo'] = 'doggo puppo'\n",
    "archive_data_clean['dog_stages'].loc[archive_data_clean.dog_stages == 'doggofloofer'] = 'doggo floofer'\n",
    "archive_data_clean['dog_stages']=archive_data_clean['dog_stages'].replace(r'^\\s*$', np.NaN, regex=True)"
   ]
  },
  {
   "cell_type": "markdown",
   "metadata": {},
   "source": [
    "#### Test"
   ]
  },
  {
   "cell_type": "code",
   "execution_count": 48,
   "metadata": {},
   "outputs": [
    {
     "data": {
      "text/plain": [
       "pupper           226\n",
       "doggo             72\n",
       "puppo             23\n",
       "doggo pupper      10\n",
       "floofer            9\n",
       "doggo puppo        1\n",
       "doggo floofer      1\n",
       "Name: dog_stages, dtype: int64"
      ]
     },
     "execution_count": 48,
     "metadata": {},
     "output_type": "execute_result"
    }
   ],
   "source": [
    "archive_data_clean['dog_stages'].value_counts()"
   ]
  },
  {
   "cell_type": "markdown",
   "metadata": {},
   "source": [
    "## Tidiness"
   ]
  },
  {
   "cell_type": "markdown",
   "metadata": {},
   "source": [
    "## Issue 3. Merging the three dataframes"
   ]
  },
  {
   "cell_type": "markdown",
   "metadata": {},
   "source": [
    "#### Define\n",
    "In order to save all the data together in a csv file and also to combine the twitter data we can merge all the three table together using merge fucntion.Fixing the data types for some columns and merging should be done after that. The final table should be fixed with all necessary data types."
   ]
  },
  {
   "cell_type": "code",
   "execution_count": 49,
   "metadata": {},
   "outputs": [],
   "source": [
    "\n",
    "tweet_data_clean=tweet_data_clean.rename({'id':'tweet_id'},axis=1)\n"
   ]
  },
  {
   "cell_type": "code",
   "execution_count": 50,
   "metadata": {},
   "outputs": [],
   "source": [
    "twitter_data=pd.merge(tweet_data_clean,archive_data_clean,on='tweet_id',how='outer')\n"
   ]
  },
  {
   "cell_type": "code",
   "execution_count": 51,
   "metadata": {},
   "outputs": [],
   "source": [
    "twitter_archive_master=pd.merge(twitter_data,tweet_image_prediction_clean,on='tweet_id',how='outer')"
   ]
  },
  {
   "cell_type": "markdown",
   "metadata": {},
   "source": [
    "#### Test"
   ]
  },
  {
   "cell_type": "code",
   "execution_count": 52,
   "metadata": {},
   "outputs": [
    {
     "data": {
      "text/html": [
       "<div>\n",
       "<style scoped>\n",
       "    .dataframe tbody tr th:only-of-type {\n",
       "        vertical-align: middle;\n",
       "    }\n",
       "\n",
       "    .dataframe tbody tr th {\n",
       "        vertical-align: top;\n",
       "    }\n",
       "\n",
       "    .dataframe thead th {\n",
       "        text-align: right;\n",
       "    }\n",
       "</style>\n",
       "<table border=\"1\" class=\"dataframe\">\n",
       "  <thead>\n",
       "    <tr style=\"text-align: right;\">\n",
       "      <th></th>\n",
       "      <th>tweet_id</th>\n",
       "      <th>retweet_count</th>\n",
       "      <th>reply_count</th>\n",
       "      <th>like_count</th>\n",
       "      <th>quote_count</th>\n",
       "      <th>timestamp</th>\n",
       "      <th>source</th>\n",
       "      <th>text</th>\n",
       "      <th>expanded_urls</th>\n",
       "      <th>rating_numerator</th>\n",
       "      <th>...</th>\n",
       "      <th>img_num</th>\n",
       "      <th>p1</th>\n",
       "      <th>p1_conf</th>\n",
       "      <th>p1_dog</th>\n",
       "      <th>p2</th>\n",
       "      <th>p2_conf</th>\n",
       "      <th>p2_dog</th>\n",
       "      <th>p3</th>\n",
       "      <th>p3_conf</th>\n",
       "      <th>p3_dog</th>\n",
       "    </tr>\n",
       "  </thead>\n",
       "  <tbody>\n",
       "    <tr>\n",
       "      <th>0</th>\n",
       "      <td>892420643555336193</td>\n",
       "      <td>7076.0</td>\n",
       "      <td>144.0</td>\n",
       "      <td>34130.0</td>\n",
       "      <td>219.0</td>\n",
       "      <td>2017-08-01 16:23:56</td>\n",
       "      <td>http://twitter.com/download/iphone</td>\n",
       "      <td>This is Phineas. He's a mystical boy. Only eve...</td>\n",
       "      <td>https://twitter.com/dog_rates/status/892420643...</td>\n",
       "      <td>13.0</td>\n",
       "      <td>...</td>\n",
       "      <td>1.0</td>\n",
       "      <td>orange</td>\n",
       "      <td>0.097049</td>\n",
       "      <td>False</td>\n",
       "      <td>bagel</td>\n",
       "      <td>0.085851</td>\n",
       "      <td>False</td>\n",
       "      <td>banana</td>\n",
       "      <td>0.076110</td>\n",
       "      <td>False</td>\n",
       "    </tr>\n",
       "    <tr>\n",
       "      <th>1</th>\n",
       "      <td>892177421306343426</td>\n",
       "      <td>5344.0</td>\n",
       "      <td>172.0</td>\n",
       "      <td>29611.0</td>\n",
       "      <td>274.0</td>\n",
       "      <td>2017-08-01 00:17:27</td>\n",
       "      <td>http://twitter.com/download/iphone</td>\n",
       "      <td>This is Tilly. She's just checking pup on you....</td>\n",
       "      <td>https://twitter.com/dog_rates/status/892177421...</td>\n",
       "      <td>13.0</td>\n",
       "      <td>...</td>\n",
       "      <td>1.0</td>\n",
       "      <td>chihuahua</td>\n",
       "      <td>0.323581</td>\n",
       "      <td>True</td>\n",
       "      <td>pekinese</td>\n",
       "      <td>0.090647</td>\n",
       "      <td>True</td>\n",
       "      <td>papillon</td>\n",
       "      <td>0.068957</td>\n",
       "      <td>True</td>\n",
       "    </tr>\n",
       "    <tr>\n",
       "      <th>2</th>\n",
       "      <td>891815181378084864</td>\n",
       "      <td>3514.0</td>\n",
       "      <td>110.0</td>\n",
       "      <td>22296.0</td>\n",
       "      <td>145.0</td>\n",
       "      <td>2017-07-31 00:18:03</td>\n",
       "      <td>http://twitter.com/download/iphone</td>\n",
       "      <td>This is Archie. He is a rare Norwegian Pouncin...</td>\n",
       "      <td>https://twitter.com/dog_rates/status/891815181...</td>\n",
       "      <td>12.0</td>\n",
       "      <td>...</td>\n",
       "      <td>1.0</td>\n",
       "      <td>chihuahua</td>\n",
       "      <td>0.716012</td>\n",
       "      <td>True</td>\n",
       "      <td>malamute</td>\n",
       "      <td>0.078253</td>\n",
       "      <td>True</td>\n",
       "      <td>kelpie</td>\n",
       "      <td>0.031379</td>\n",
       "      <td>True</td>\n",
       "    </tr>\n",
       "    <tr>\n",
       "      <th>3</th>\n",
       "      <td>891689557279858688</td>\n",
       "      <td>7286.0</td>\n",
       "      <td>142.0</td>\n",
       "      <td>37301.0</td>\n",
       "      <td>286.0</td>\n",
       "      <td>2017-07-30 15:58:51</td>\n",
       "      <td>http://twitter.com/download/iphone</td>\n",
       "      <td>This is Darla. She commenced a snooze mid meal...</td>\n",
       "      <td>https://twitter.com/dog_rates/status/891689557...</td>\n",
       "      <td>13.0</td>\n",
       "      <td>...</td>\n",
       "      <td>1.0</td>\n",
       "      <td>paper_towel</td>\n",
       "      <td>0.170278</td>\n",
       "      <td>False</td>\n",
       "      <td>labrador_retriever</td>\n",
       "      <td>0.168086</td>\n",
       "      <td>True</td>\n",
       "      <td>spatula</td>\n",
       "      <td>0.040836</td>\n",
       "      <td>False</td>\n",
       "    </tr>\n",
       "    <tr>\n",
       "      <th>4</th>\n",
       "      <td>891327558926688256</td>\n",
       "      <td>7818.0</td>\n",
       "      <td>193.0</td>\n",
       "      <td>35648.0</td>\n",
       "      <td>296.0</td>\n",
       "      <td>2017-07-29 16:00:24</td>\n",
       "      <td>http://twitter.com/download/iphone</td>\n",
       "      <td>This is Franklin. He would like you to stop ca...</td>\n",
       "      <td>https://twitter.com/dog_rates/status/891327558...</td>\n",
       "      <td>12.0</td>\n",
       "      <td>...</td>\n",
       "      <td>2.0</td>\n",
       "      <td>basset</td>\n",
       "      <td>0.555712</td>\n",
       "      <td>True</td>\n",
       "      <td>english_springer</td>\n",
       "      <td>0.225770</td>\n",
       "      <td>True</td>\n",
       "      <td>german_short-haired_pointer</td>\n",
       "      <td>0.175219</td>\n",
       "      <td>True</td>\n",
       "    </tr>\n",
       "  </tbody>\n",
       "</table>\n",
       "<p>5 rows × 25 columns</p>\n",
       "</div>"
      ],
      "text/plain": [
       "             tweet_id  retweet_count  reply_count  like_count  quote_count  \\\n",
       "0  892420643555336193         7076.0        144.0     34130.0        219.0   \n",
       "1  892177421306343426         5344.0        172.0     29611.0        274.0   \n",
       "2  891815181378084864         3514.0        110.0     22296.0        145.0   \n",
       "3  891689557279858688         7286.0        142.0     37301.0        286.0   \n",
       "4  891327558926688256         7818.0        193.0     35648.0        296.0   \n",
       "\n",
       "            timestamp                               source  \\\n",
       "0 2017-08-01 16:23:56  http://twitter.com/download/iphone    \n",
       "1 2017-08-01 00:17:27  http://twitter.com/download/iphone    \n",
       "2 2017-07-31 00:18:03  http://twitter.com/download/iphone    \n",
       "3 2017-07-30 15:58:51  http://twitter.com/download/iphone    \n",
       "4 2017-07-29 16:00:24  http://twitter.com/download/iphone    \n",
       "\n",
       "                                                text  \\\n",
       "0  This is Phineas. He's a mystical boy. Only eve...   \n",
       "1  This is Tilly. She's just checking pup on you....   \n",
       "2  This is Archie. He is a rare Norwegian Pouncin...   \n",
       "3  This is Darla. She commenced a snooze mid meal...   \n",
       "4  This is Franklin. He would like you to stop ca...   \n",
       "\n",
       "                                       expanded_urls  rating_numerator  ...    \\\n",
       "0  https://twitter.com/dog_rates/status/892420643...              13.0  ...     \n",
       "1  https://twitter.com/dog_rates/status/892177421...              13.0  ...     \n",
       "2  https://twitter.com/dog_rates/status/891815181...              12.0  ...     \n",
       "3  https://twitter.com/dog_rates/status/891689557...              13.0  ...     \n",
       "4  https://twitter.com/dog_rates/status/891327558...              12.0  ...     \n",
       "\n",
       "   img_num           p1   p1_conf p1_dog                  p2   p2_conf p2_dog  \\\n",
       "0      1.0       orange  0.097049  False               bagel  0.085851  False   \n",
       "1      1.0    chihuahua  0.323581   True            pekinese  0.090647   True   \n",
       "2      1.0    chihuahua  0.716012   True            malamute  0.078253   True   \n",
       "3      1.0  paper_towel  0.170278  False  labrador_retriever  0.168086   True   \n",
       "4      2.0       basset  0.555712   True    english_springer  0.225770   True   \n",
       "\n",
       "                            p3   p3_conf p3_dog  \n",
       "0                       banana  0.076110  False  \n",
       "1                     papillon  0.068957   True  \n",
       "2                       kelpie  0.031379   True  \n",
       "3                      spatula  0.040836  False  \n",
       "4  german_short-haired_pointer  0.175219   True  \n",
       "\n",
       "[5 rows x 25 columns]"
      ]
     },
     "execution_count": 52,
     "metadata": {},
     "output_type": "execute_result"
    }
   ],
   "source": [
    "twitter_archive_master.head()"
   ]
  },
  {
   "cell_type": "code",
   "execution_count": 53,
   "metadata": {},
   "outputs": [],
   "source": [
    "#fixing data types for the master table\n",
    "twitter_archive_master['p1_dog']=twitter_archive_master['p1_dog'].astype(bool)\n",
    "twitter_archive_master['p2_dog']=twitter_archive_master['p2_dog'].astype(bool)\n",
    "twitter_archive_master['p3_dog']=twitter_archive_master['p3_dog'].astype(bool)\n",
    "\n",
    "twitter_archive_master['retweet_count']=twitter_archive_master['retweet_count'].fillna(0)\n",
    "twitter_archive_master['retweet_count']=twitter_archive_master['retweet_count'].astype(int)\n",
    "twitter_archive_master['reply_count']=twitter_archive_master['reply_count'].fillna(0)\n",
    "twitter_archive_master['reply_count']=twitter_archive_master['reply_count'].astype(int)\n",
    "twitter_archive_master['like_count']=twitter_archive_master['like_count'].fillna(0)\n",
    "twitter_archive_master['like_count']=twitter_archive_master['like_count'].astype(int)\n",
    "twitter_archive_master['quote_count']=twitter_archive_master['quote_count'].fillna(0)\n",
    "twitter_archive_master['quote_count']=twitter_archive_master['quote_count'].astype(int)\n",
    "twitter_archive_master['rating_numerator']=twitter_archive_master['rating_numerator'].fillna(0)\n",
    "twitter_archive_master['rating_numerator']=twitter_archive_master['rating_numerator'].astype(int)\n",
    "twitter_archive_master['rating_denominator']=twitter_archive_master['rating_denominator'].fillna(0)\n",
    "twitter_archive_master['rating_denominator']=twitter_archive_master['rating_denominator'].astype(int)\n",
    "twitter_archive_master['img_num']=twitter_archive_master['img_num'].fillna(0)\n",
    "twitter_archive_master['img_num']=twitter_archive_master['img_num'].astype(int)\n",
    "\n"
   ]
  },
  {
   "cell_type": "markdown",
   "metadata": {},
   "source": [
    "#### Test"
   ]
  },
  {
   "cell_type": "code",
   "execution_count": 54,
   "metadata": {
    "scrolled": true
   },
   "outputs": [
    {
     "name": "stdout",
     "output_type": "stream",
     "text": [
      "<class 'pandas.core.frame.DataFrame'>\n",
      "Int64Index: 2355 entries, 0 to 2354\n",
      "Data columns (total 25 columns):\n",
      "tweet_id              2355 non-null int64\n",
      "retweet_count         2355 non-null int64\n",
      "reply_count           2355 non-null int64\n",
      "like_count            2355 non-null int64\n",
      "quote_count           2355 non-null int64\n",
      "timestamp             2140 non-null datetime64[ns]\n",
      "source                2140 non-null object\n",
      "text                  2140 non-null object\n",
      "expanded_urls         2140 non-null object\n",
      "rating_numerator      2355 non-null int64\n",
      "rating_denominator    2355 non-null int64\n",
      "name                  1495 non-null object\n",
      "image_url             2140 non-null object\n",
      "dog_stages            342 non-null object\n",
      "jpg_url               2075 non-null object\n",
      "img_num               2355 non-null int64\n",
      "p1                    2075 non-null object\n",
      "p1_conf               2075 non-null float64\n",
      "p1_dog                2355 non-null bool\n",
      "p2                    2075 non-null object\n",
      "p2_conf               2075 non-null float64\n",
      "p2_dog                2355 non-null bool\n",
      "p3                    2075 non-null object\n",
      "p3_conf               2075 non-null float64\n",
      "p3_dog                2355 non-null bool\n",
      "dtypes: bool(3), datetime64[ns](1), float64(3), int64(8), object(10)\n",
      "memory usage: 430.1+ KB\n"
     ]
    }
   ],
   "source": [
    "twitter_archive_master.info()"
   ]
  },
  {
   "cell_type": "code",
   "execution_count": 55,
   "metadata": {},
   "outputs": [
    {
     "data": {
      "text/html": [
       "<div>\n",
       "<style scoped>\n",
       "    .dataframe tbody tr th:only-of-type {\n",
       "        vertical-align: middle;\n",
       "    }\n",
       "\n",
       "    .dataframe tbody tr th {\n",
       "        vertical-align: top;\n",
       "    }\n",
       "\n",
       "    .dataframe thead th {\n",
       "        text-align: right;\n",
       "    }\n",
       "</style>\n",
       "<table border=\"1\" class=\"dataframe\">\n",
       "  <thead>\n",
       "    <tr style=\"text-align: right;\">\n",
       "      <th></th>\n",
       "      <th>tweet_id</th>\n",
       "      <th>retweet_count</th>\n",
       "      <th>reply_count</th>\n",
       "      <th>like_count</th>\n",
       "      <th>quote_count</th>\n",
       "      <th>timestamp</th>\n",
       "      <th>source</th>\n",
       "      <th>text</th>\n",
       "      <th>expanded_urls</th>\n",
       "      <th>rating_numerator</th>\n",
       "      <th>...</th>\n",
       "      <th>img_num</th>\n",
       "      <th>p1</th>\n",
       "      <th>p1_conf</th>\n",
       "      <th>p1_dog</th>\n",
       "      <th>p2</th>\n",
       "      <th>p2_conf</th>\n",
       "      <th>p2_dog</th>\n",
       "      <th>p3</th>\n",
       "      <th>p3_conf</th>\n",
       "      <th>p3_dog</th>\n",
       "    </tr>\n",
       "  </thead>\n",
       "  <tbody>\n",
       "    <tr>\n",
       "      <th>0</th>\n",
       "      <td>892420643555336193</td>\n",
       "      <td>7076</td>\n",
       "      <td>144</td>\n",
       "      <td>34130</td>\n",
       "      <td>219</td>\n",
       "      <td>2017-08-01 16:23:56</td>\n",
       "      <td>http://twitter.com/download/iphone</td>\n",
       "      <td>This is Phineas. He's a mystical boy. Only eve...</td>\n",
       "      <td>https://twitter.com/dog_rates/status/892420643...</td>\n",
       "      <td>13</td>\n",
       "      <td>...</td>\n",
       "      <td>1</td>\n",
       "      <td>orange</td>\n",
       "      <td>0.097049</td>\n",
       "      <td>False</td>\n",
       "      <td>bagel</td>\n",
       "      <td>0.085851</td>\n",
       "      <td>False</td>\n",
       "      <td>banana</td>\n",
       "      <td>0.076110</td>\n",
       "      <td>False</td>\n",
       "    </tr>\n",
       "    <tr>\n",
       "      <th>1</th>\n",
       "      <td>892177421306343426</td>\n",
       "      <td>5344</td>\n",
       "      <td>172</td>\n",
       "      <td>29611</td>\n",
       "      <td>274</td>\n",
       "      <td>2017-08-01 00:17:27</td>\n",
       "      <td>http://twitter.com/download/iphone</td>\n",
       "      <td>This is Tilly. She's just checking pup on you....</td>\n",
       "      <td>https://twitter.com/dog_rates/status/892177421...</td>\n",
       "      <td>13</td>\n",
       "      <td>...</td>\n",
       "      <td>1</td>\n",
       "      <td>chihuahua</td>\n",
       "      <td>0.323581</td>\n",
       "      <td>True</td>\n",
       "      <td>pekinese</td>\n",
       "      <td>0.090647</td>\n",
       "      <td>True</td>\n",
       "      <td>papillon</td>\n",
       "      <td>0.068957</td>\n",
       "      <td>True</td>\n",
       "    </tr>\n",
       "    <tr>\n",
       "      <th>2</th>\n",
       "      <td>891815181378084864</td>\n",
       "      <td>3514</td>\n",
       "      <td>110</td>\n",
       "      <td>22296</td>\n",
       "      <td>145</td>\n",
       "      <td>2017-07-31 00:18:03</td>\n",
       "      <td>http://twitter.com/download/iphone</td>\n",
       "      <td>This is Archie. He is a rare Norwegian Pouncin...</td>\n",
       "      <td>https://twitter.com/dog_rates/status/891815181...</td>\n",
       "      <td>12</td>\n",
       "      <td>...</td>\n",
       "      <td>1</td>\n",
       "      <td>chihuahua</td>\n",
       "      <td>0.716012</td>\n",
       "      <td>True</td>\n",
       "      <td>malamute</td>\n",
       "      <td>0.078253</td>\n",
       "      <td>True</td>\n",
       "      <td>kelpie</td>\n",
       "      <td>0.031379</td>\n",
       "      <td>True</td>\n",
       "    </tr>\n",
       "    <tr>\n",
       "      <th>3</th>\n",
       "      <td>891689557279858688</td>\n",
       "      <td>7286</td>\n",
       "      <td>142</td>\n",
       "      <td>37301</td>\n",
       "      <td>286</td>\n",
       "      <td>2017-07-30 15:58:51</td>\n",
       "      <td>http://twitter.com/download/iphone</td>\n",
       "      <td>This is Darla. She commenced a snooze mid meal...</td>\n",
       "      <td>https://twitter.com/dog_rates/status/891689557...</td>\n",
       "      <td>13</td>\n",
       "      <td>...</td>\n",
       "      <td>1</td>\n",
       "      <td>paper_towel</td>\n",
       "      <td>0.170278</td>\n",
       "      <td>False</td>\n",
       "      <td>labrador_retriever</td>\n",
       "      <td>0.168086</td>\n",
       "      <td>True</td>\n",
       "      <td>spatula</td>\n",
       "      <td>0.040836</td>\n",
       "      <td>False</td>\n",
       "    </tr>\n",
       "    <tr>\n",
       "      <th>4</th>\n",
       "      <td>891327558926688256</td>\n",
       "      <td>7818</td>\n",
       "      <td>193</td>\n",
       "      <td>35648</td>\n",
       "      <td>296</td>\n",
       "      <td>2017-07-29 16:00:24</td>\n",
       "      <td>http://twitter.com/download/iphone</td>\n",
       "      <td>This is Franklin. He would like you to stop ca...</td>\n",
       "      <td>https://twitter.com/dog_rates/status/891327558...</td>\n",
       "      <td>12</td>\n",
       "      <td>...</td>\n",
       "      <td>2</td>\n",
       "      <td>basset</td>\n",
       "      <td>0.555712</td>\n",
       "      <td>True</td>\n",
       "      <td>english_springer</td>\n",
       "      <td>0.225770</td>\n",
       "      <td>True</td>\n",
       "      <td>german_short-haired_pointer</td>\n",
       "      <td>0.175219</td>\n",
       "      <td>True</td>\n",
       "    </tr>\n",
       "  </tbody>\n",
       "</table>\n",
       "<p>5 rows × 25 columns</p>\n",
       "</div>"
      ],
      "text/plain": [
       "             tweet_id  retweet_count  reply_count  like_count  quote_count  \\\n",
       "0  892420643555336193           7076          144       34130          219   \n",
       "1  892177421306343426           5344          172       29611          274   \n",
       "2  891815181378084864           3514          110       22296          145   \n",
       "3  891689557279858688           7286          142       37301          286   \n",
       "4  891327558926688256           7818          193       35648          296   \n",
       "\n",
       "            timestamp                               source  \\\n",
       "0 2017-08-01 16:23:56  http://twitter.com/download/iphone    \n",
       "1 2017-08-01 00:17:27  http://twitter.com/download/iphone    \n",
       "2 2017-07-31 00:18:03  http://twitter.com/download/iphone    \n",
       "3 2017-07-30 15:58:51  http://twitter.com/download/iphone    \n",
       "4 2017-07-29 16:00:24  http://twitter.com/download/iphone    \n",
       "\n",
       "                                                text  \\\n",
       "0  This is Phineas. He's a mystical boy. Only eve...   \n",
       "1  This is Tilly. She's just checking pup on you....   \n",
       "2  This is Archie. He is a rare Norwegian Pouncin...   \n",
       "3  This is Darla. She commenced a snooze mid meal...   \n",
       "4  This is Franklin. He would like you to stop ca...   \n",
       "\n",
       "                                       expanded_urls  rating_numerator  ...    \\\n",
       "0  https://twitter.com/dog_rates/status/892420643...                13  ...     \n",
       "1  https://twitter.com/dog_rates/status/892177421...                13  ...     \n",
       "2  https://twitter.com/dog_rates/status/891815181...                12  ...     \n",
       "3  https://twitter.com/dog_rates/status/891689557...                13  ...     \n",
       "4  https://twitter.com/dog_rates/status/891327558...                12  ...     \n",
       "\n",
       "   img_num           p1   p1_conf p1_dog                  p2   p2_conf p2_dog  \\\n",
       "0        1       orange  0.097049  False               bagel  0.085851  False   \n",
       "1        1    chihuahua  0.323581   True            pekinese  0.090647   True   \n",
       "2        1    chihuahua  0.716012   True            malamute  0.078253   True   \n",
       "3        1  paper_towel  0.170278  False  labrador_retriever  0.168086   True   \n",
       "4        2       basset  0.555712   True    english_springer  0.225770   True   \n",
       "\n",
       "                            p3   p3_conf p3_dog  \n",
       "0                       banana  0.076110  False  \n",
       "1                     papillon  0.068957   True  \n",
       "2                       kelpie  0.031379   True  \n",
       "3                      spatula  0.040836  False  \n",
       "4  german_short-haired_pointer  0.175219   True  \n",
       "\n",
       "[5 rows x 25 columns]"
      ]
     },
     "execution_count": 55,
     "metadata": {},
     "output_type": "execute_result"
    }
   ],
   "source": [
    "twitter_archive_master.head()"
   ]
  },
  {
   "cell_type": "markdown",
   "metadata": {},
   "source": [
    "## Storing Data\n",
    "Save gathered, assessed, and cleaned master dataset to a CSV file named \"twitter_archive_master.csv\"."
   ]
  },
  {
   "cell_type": "code",
   "execution_count": 56,
   "metadata": {},
   "outputs": [],
   "source": [
    "twitter_archive_master.to_csv('\"twitter_archive_master.csv\"')"
   ]
  },
  {
   "cell_type": "markdown",
   "metadata": {},
   "source": [
    "## Analyzing and Visualizing Data\n",
    "In this section, analyze and visualize your wrangled data. You must produce at least **three (3) insights and one (1) visualization.**"
   ]
  },
  {
   "cell_type": "code",
   "execution_count": 57,
   "metadata": {},
   "outputs": [
    {
     "data": {
      "text/html": [
       "<div>\n",
       "<style scoped>\n",
       "    .dataframe tbody tr th:only-of-type {\n",
       "        vertical-align: middle;\n",
       "    }\n",
       "\n",
       "    .dataframe tbody tr th {\n",
       "        vertical-align: top;\n",
       "    }\n",
       "\n",
       "    .dataframe thead th {\n",
       "        text-align: right;\n",
       "    }\n",
       "</style>\n",
       "<table border=\"1\" class=\"dataframe\">\n",
       "  <thead>\n",
       "    <tr style=\"text-align: right;\">\n",
       "      <th></th>\n",
       "      <th>tweet_id</th>\n",
       "      <th>retweet_count</th>\n",
       "      <th>reply_count</th>\n",
       "      <th>like_count</th>\n",
       "      <th>quote_count</th>\n",
       "      <th>timestamp</th>\n",
       "      <th>source</th>\n",
       "      <th>text</th>\n",
       "      <th>expanded_urls</th>\n",
       "      <th>rating_numerator</th>\n",
       "      <th>...</th>\n",
       "      <th>img_num</th>\n",
       "      <th>p1</th>\n",
       "      <th>p1_conf</th>\n",
       "      <th>p1_dog</th>\n",
       "      <th>p2</th>\n",
       "      <th>p2_conf</th>\n",
       "      <th>p2_dog</th>\n",
       "      <th>p3</th>\n",
       "      <th>p3_conf</th>\n",
       "      <th>p3_dog</th>\n",
       "    </tr>\n",
       "  </thead>\n",
       "  <tbody>\n",
       "    <tr>\n",
       "      <th>1011</th>\n",
       "      <td>744234799360020481</td>\n",
       "      <td>71406</td>\n",
       "      <td>1132</td>\n",
       "      <td>146058</td>\n",
       "      <td>3705</td>\n",
       "      <td>2016-06-18 18:26:18</td>\n",
       "      <td>http://twitter.com/download/iphone</td>\n",
       "      <td>Here's a doggo realizing you can stand in a po...</td>\n",
       "      <td>https://twitter.com/dog_rates/status/744234799...</td>\n",
       "      <td>13</td>\n",
       "      <td>...</td>\n",
       "      <td>1</td>\n",
       "      <td>labrador_retriever</td>\n",
       "      <td>0.825333</td>\n",
       "      <td>True</td>\n",
       "      <td>ice_bear</td>\n",
       "      <td>0.044681</td>\n",
       "      <td>False</td>\n",
       "      <td>whippet</td>\n",
       "      <td>0.018442</td>\n",
       "      <td>True</td>\n",
       "    </tr>\n",
       "  </tbody>\n",
       "</table>\n",
       "<p>1 rows × 25 columns</p>\n",
       "</div>"
      ],
      "text/plain": [
       "                tweet_id  retweet_count  reply_count  like_count  quote_count  \\\n",
       "1011  744234799360020481          71406         1132      146058         3705   \n",
       "\n",
       "               timestamp                               source  \\\n",
       "1011 2016-06-18 18:26:18  http://twitter.com/download/iphone    \n",
       "\n",
       "                                                   text  \\\n",
       "1011  Here's a doggo realizing you can stand in a po...   \n",
       "\n",
       "                                          expanded_urls  rating_numerator  \\\n",
       "1011  https://twitter.com/dog_rates/status/744234799...                13   \n",
       "\n",
       "      ...    img_num                  p1   p1_conf p1_dog        p2   p2_conf  \\\n",
       "1011  ...          1  labrador_retriever  0.825333   True  ice_bear  0.044681   \n",
       "\n",
       "     p2_dog       p3   p3_conf p3_dog  \n",
       "1011  False  whippet  0.018442   True  \n",
       "\n",
       "[1 rows x 25 columns]"
      ]
     },
     "execution_count": 57,
     "metadata": {},
     "output_type": "execute_result"
    }
   ],
   "source": [
    "max_retweet_count=twitter_archive_master['retweet_count'].max()\n",
    "twitter_archive_master[twitter_archive_master['retweet_count']==max_retweet_count]\n",
    "\n"
   ]
  },
  {
   "cell_type": "code",
   "execution_count": 58,
   "metadata": {},
   "outputs": [
    {
     "data": {
      "text/html": [
       "<div>\n",
       "<style scoped>\n",
       "    .dataframe tbody tr th:only-of-type {\n",
       "        vertical-align: middle;\n",
       "    }\n",
       "\n",
       "    .dataframe tbody tr th {\n",
       "        vertical-align: top;\n",
       "    }\n",
       "\n",
       "    .dataframe thead th {\n",
       "        text-align: right;\n",
       "    }\n",
       "</style>\n",
       "<table border=\"1\" class=\"dataframe\">\n",
       "  <thead>\n",
       "    <tr style=\"text-align: right;\">\n",
       "      <th></th>\n",
       "      <th>tweet_id</th>\n",
       "      <th>retweet_count</th>\n",
       "      <th>reply_count</th>\n",
       "      <th>like_count</th>\n",
       "      <th>quote_count</th>\n",
       "      <th>timestamp</th>\n",
       "      <th>source</th>\n",
       "      <th>text</th>\n",
       "      <th>expanded_urls</th>\n",
       "      <th>rating_numerator</th>\n",
       "      <th>...</th>\n",
       "      <th>img_num</th>\n",
       "      <th>p1</th>\n",
       "      <th>p1_conf</th>\n",
       "      <th>p1_dog</th>\n",
       "      <th>p2</th>\n",
       "      <th>p2_conf</th>\n",
       "      <th>p2_dog</th>\n",
       "      <th>p3</th>\n",
       "      <th>p3_conf</th>\n",
       "      <th>p3_dog</th>\n",
       "    </tr>\n",
       "  </thead>\n",
       "  <tbody>\n",
       "    <tr>\n",
       "      <th>1011</th>\n",
       "      <td>744234799360020481</td>\n",
       "      <td>71406</td>\n",
       "      <td>1132</td>\n",
       "      <td>146058</td>\n",
       "      <td>3705</td>\n",
       "      <td>2016-06-18 18:26:18</td>\n",
       "      <td>http://twitter.com/download/iphone</td>\n",
       "      <td>Here's a doggo realizing you can stand in a po...</td>\n",
       "      <td>https://twitter.com/dog_rates/status/744234799...</td>\n",
       "      <td>13</td>\n",
       "      <td>...</td>\n",
       "      <td>1</td>\n",
       "      <td>labrador_retriever</td>\n",
       "      <td>0.825333</td>\n",
       "      <td>True</td>\n",
       "      <td>ice_bear</td>\n",
       "      <td>0.044681</td>\n",
       "      <td>False</td>\n",
       "      <td>whippet</td>\n",
       "      <td>0.018442</td>\n",
       "      <td>True</td>\n",
       "    </tr>\n",
       "  </tbody>\n",
       "</table>\n",
       "<p>1 rows × 25 columns</p>\n",
       "</div>"
      ],
      "text/plain": [
       "                tweet_id  retweet_count  reply_count  like_count  quote_count  \\\n",
       "1011  744234799360020481          71406         1132      146058         3705   \n",
       "\n",
       "               timestamp                               source  \\\n",
       "1011 2016-06-18 18:26:18  http://twitter.com/download/iphone    \n",
       "\n",
       "                                                   text  \\\n",
       "1011  Here's a doggo realizing you can stand in a po...   \n",
       "\n",
       "                                          expanded_urls  rating_numerator  \\\n",
       "1011  https://twitter.com/dog_rates/status/744234799...                13   \n",
       "\n",
       "      ...    img_num                  p1   p1_conf p1_dog        p2   p2_conf  \\\n",
       "1011  ...          1  labrador_retriever  0.825333   True  ice_bear  0.044681   \n",
       "\n",
       "     p2_dog       p3   p3_conf p3_dog  \n",
       "1011  False  whippet  0.018442   True  \n",
       "\n",
       "[1 rows x 25 columns]"
      ]
     },
     "execution_count": 58,
     "metadata": {},
     "output_type": "execute_result"
    }
   ],
   "source": [
    "max_like_count=twitter_archive_master['like_count'].max()\n",
    "twitter_archive_master[twitter_archive_master['like_count']==max_like_count]\n",
    "\n"
   ]
  },
  {
   "cell_type": "code",
   "execution_count": 59,
   "metadata": {
    "scrolled": true
   },
   "outputs": [
    {
     "data": {
      "text/html": [
       "<div>\n",
       "<style scoped>\n",
       "    .dataframe tbody tr th:only-of-type {\n",
       "        vertical-align: middle;\n",
       "    }\n",
       "\n",
       "    .dataframe tbody tr th {\n",
       "        vertical-align: top;\n",
       "    }\n",
       "\n",
       "    .dataframe thead th {\n",
       "        text-align: right;\n",
       "    }\n",
       "</style>\n",
       "<table border=\"1\" class=\"dataframe\">\n",
       "  <thead>\n",
       "    <tr style=\"text-align: right;\">\n",
       "      <th></th>\n",
       "      <th>tweet_id</th>\n",
       "      <th>retweet_count</th>\n",
       "      <th>reply_count</th>\n",
       "      <th>like_count</th>\n",
       "      <th>quote_count</th>\n",
       "      <th>timestamp</th>\n",
       "      <th>source</th>\n",
       "      <th>text</th>\n",
       "      <th>expanded_urls</th>\n",
       "      <th>rating_numerator</th>\n",
       "      <th>...</th>\n",
       "      <th>img_num</th>\n",
       "      <th>p1</th>\n",
       "      <th>p1_conf</th>\n",
       "      <th>p1_dog</th>\n",
       "      <th>p2</th>\n",
       "      <th>p2_conf</th>\n",
       "      <th>p2_dog</th>\n",
       "      <th>p3</th>\n",
       "      <th>p3_conf</th>\n",
       "      <th>p3_dog</th>\n",
       "    </tr>\n",
       "  </thead>\n",
       "  <tbody>\n",
       "    <tr>\n",
       "      <th>65</th>\n",
       "      <td>879415818425184262</td>\n",
       "      <td>37774</td>\n",
       "      <td>1137</td>\n",
       "      <td>93688</td>\n",
       "      <td>4353</td>\n",
       "      <td>2017-06-26 19:07:24</td>\n",
       "      <td>http://twitter.com/download/iphone</td>\n",
       "      <td>This is Duddles. He did an attempt.  someone h...</td>\n",
       "      <td>https://twitter.com/dog_rates/status/879415818...</td>\n",
       "      <td>13</td>\n",
       "      <td>...</td>\n",
       "      <td>1</td>\n",
       "      <td>english_springer</td>\n",
       "      <td>0.383404</td>\n",
       "      <td>True</td>\n",
       "      <td>boston_bull</td>\n",
       "      <td>0.134967</td>\n",
       "      <td>True</td>\n",
       "      <td>cardigan</td>\n",
       "      <td>0.110481</td>\n",
       "      <td>True</td>\n",
       "    </tr>\n",
       "  </tbody>\n",
       "</table>\n",
       "<p>1 rows × 25 columns</p>\n",
       "</div>"
      ],
      "text/plain": [
       "              tweet_id  retweet_count  reply_count  like_count  quote_count  \\\n",
       "65  879415818425184262          37774         1137       93688         4353   \n",
       "\n",
       "             timestamp                               source  \\\n",
       "65 2017-06-26 19:07:24  http://twitter.com/download/iphone    \n",
       "\n",
       "                                                 text  \\\n",
       "65  This is Duddles. He did an attempt.  someone h...   \n",
       "\n",
       "                                        expanded_urls  rating_numerator  \\\n",
       "65  https://twitter.com/dog_rates/status/879415818...                13   \n",
       "\n",
       "    ...    img_num                p1   p1_conf p1_dog           p2   p2_conf  \\\n",
       "65  ...          1  english_springer  0.383404   True  boston_bull  0.134967   \n",
       "\n",
       "   p2_dog        p3   p3_conf p3_dog  \n",
       "65   True  cardigan  0.110481   True  \n",
       "\n",
       "[1 rows x 25 columns]"
      ]
     },
     "execution_count": 59,
     "metadata": {},
     "output_type": "execute_result"
    }
   ],
   "source": [
    "max_quote_count=twitter_archive_master['quote_count'].max()\n",
    "twitter_archive_master[twitter_archive_master['quote_count']==max_quote_count]"
   ]
  },
  {
   "cell_type": "code",
   "execution_count": 60,
   "metadata": {},
   "outputs": [
    {
     "name": "stdout",
     "output_type": "stream",
     "text": [
      "                                               retweet_count  reply_count  \\\n",
      "source                                                                      \n",
      "http://twitter.com                                     42961         1121   \n",
      "http://twitter.com/download/iphone                   4370698        73135   \n",
      "http://vine.co                                        164764         3922   \n",
      "https://about.twitter.com/products/tweetdeck           16798          244   \n",
      "\n",
      "                                               like_count  quote_count  \n",
      "source                                                                  \n",
      "http://twitter.com                                 114590         3603  \n",
      "http://twitter.com/download/iphone               12625404       112289  \n",
      "http://vine.co                                     377039         4555  \n",
      "https://about.twitter.com/products/tweetdeck        38910          176  \n"
     ]
    }
   ],
   "source": [
    "print(twitter_archive_master.groupby(['source'])['retweet_count','reply_count','like_count','quote_count'].sum())\n",
    "\n"
   ]
  },
  {
   "cell_type": "markdown",
   "metadata": {},
   "source": [
    "### Insights:\n",
    "1.Based on the above analysis the max retweet count got for tweet_id =744234799360020481. Unfortunately we dont have name for this dog. But the p1 predcition is golden_retriever.its a dogggo.It's also got max_like_count\n",
    "\n",
    "2.Duddles got max quote count.Based on the predictions it may be english_springer or boston_bull or cardigan type. \n",
    "\n",
    "3.Bases on the analysis above more retweets,replies,likes and quotes published through iphone and least retweets,replies,likes and quotes published through twitter tweet deck.second highest posts are from vine.co."
   ]
  },
  {
   "cell_type": "markdown",
   "metadata": {
    "collapsed": true
   },
   "source": [
    "### Visualization"
   ]
  },
  {
   "cell_type": "code",
   "execution_count": 62,
   "metadata": {},
   "outputs": [
    {
     "data": {
      "text/plain": [
       "<matplotlib.axes._subplots.AxesSubplot at 0x7f848020d320>"
      ]
     },
     "execution_count": 62,
     "metadata": {},
     "output_type": "execute_result"
    },
    {
     "data": {
      "image/png": "[encoded data removed]",
      "text/plain": [
       "<matplotlib.figure.Figure at 0x7f84802cfc88>"
      ]
     },
     "metadata": {
      "needs_background": "light"
     },
     "output_type": "display_data"
    }
   ],
   "source": [
    "import matplotlib.pyplot as plt\n",
    "#PLOTTING MEANS OF P1_CONF,P2_CONF,P3_CONF \n",
    "\n",
    "twitter_archive_master.groupby(['p1_dog','p2_dog','p3_dog'])['p1_conf','p2_conf','p3_conf'].mean().plot()"
   ]
  }
 ],
 "metadata": {
  "extensions": {
   "jupyter_dashboards": {
    "activeView": "report_default",
    "version": 1,
    "views": {
     "grid_default": {
      "cellMargin": 10,
      "defaultCellHeight": 20,
      "maxColumns": 12,
      "name": "grid",
      "type": "grid"
     },
     "report_default": {
      "name": "report",
      "type": "report"
     }
    }
   }
  },
  "kernelspec": {
   "display_name": "Python 3",
   "language": "python",
   "name": "python3"
  },
  "language_info": {
   "codemirror_mode": {
    "name": "ipython",
    "version": 3
   },
   "file_extension": ".py",
   "mimetype": "text/x-python",
   "name": "python",
   "nbconvert_exporter": "python",
   "pygments_lexer": "ipython3",
   "version": "3.6.3"
  }
 },
 "nbformat": 4,
 "nbformat_minor": 2
}
