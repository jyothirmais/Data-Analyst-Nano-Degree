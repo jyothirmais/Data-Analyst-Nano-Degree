{
 "cells": [
  {
   "cell_type": "code",
   "execution_count": 1,
   "metadata": {},
   "outputs": [],
   "source": [
    "consumer_key = 'ej7CCUMjHsGXEKgPzkfXqow0o'\n",
    "consumer_secret = 'q4qbASUlsLH5Rr6ztZiPGC9v9PXdb1bExcZlNt4EV6sEuaoyoh'\n",
    "access_token = '1504192152779198464-cctajwVp8LxnVzdBp1tVIcthTPXIIF'\n",
    "access_secret = 'lWxpVw7s9eqjcoxmE1hOMj65fuqz2Cd4i0OIb6SGg5AbT'\n",
    "bearer_token='AAAAAAAAAAAAAAAAAAAAAKI7aQEAAAAA3KzdbGsDnLXfnZ7FeYkY%2FWNAjI8%3D0PPpcjzsUtKZrSi3JOUqvPqRatiEZRfZ3VfwRi4DfYNVo1VyIP'"
   ]
  }
 ],
 "metadata": {
  "kernelspec": {
   "display_name": "Python 3",
   "language": "python",
   "name": "python3"
  },
  "language_info": {
   "codemirror_mode": {
    "name": "ipython",
    "version": 3
   },
   "file_extension": ".py",
   "mimetype": "text/x-python",
   "name": "python",
   "nbconvert_exporter": "python",
   "pygments_lexer": "ipython3",
   "version": "3.6.3"
  }
 },
 "nbformat": 4,
 "nbformat_minor": 2
}
