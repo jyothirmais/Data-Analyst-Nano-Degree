{
 "cells": [
  {
   "cell_type": "markdown",
   "metadata": {},
   "source": [
    "## Reporting: wragle_report\n",
    "* Create a **300-600 word written report** called \"wrangle_report.pdf\" or \"wrangle_report.html\" that briefly describes your wrangling efforts. This is to be framed as an internal document."
   ]
  },
  {
   "cell_type": "markdown",
   "metadata": {},
   "source": [
    "## Twitter_archive table,tweet_image_prediction and tweet_data:\n",
    "\n",
    "#### Data assessment and cleaning:\n",
    "The above mentioned  table was generated through reas csv fiel available in the projectw orkspace and converted  to dataframe.There were some quality and tidiness issues associated for this table through proper assessment process based on .info,.duplicated,.value_counts,.is_null fucntions.In order to clean the data lots of str methods like split,strip,astype,drop,replace,lambda fucntions have been used. In the same  manner tweet_image _prediction table also have been assessed and cleaned based onthe above functionalities.\n",
    "#### Tweet_data though twitter api.\n",
    "In order to get the twitter data thorugh twitter api TWITTER DEVELOPER ACCOUNT and api keys and tokens have been obtained but failed to get eleveated access from twitter. So to accomplish this project client method have been used. It was bit slower and took 1 HOUR 30 mins total to get all the data realted  to tweet_data. \n",
    "\n",
    "#### Merging data.\n",
    "Once the data get obtained, the data was saved to a csv file to avoid running everytime in the workbook. Data cleaning have been accomplished based on the above process and merged to the above mentioned tables to get the final master data and saved to a csv file."
   ]
  }
 ],
 "metadata": {
  "kernelspec": {
   "display_name": "Python 3",
   "language": "python",
   "name": "python3"
  },
  "language_info": {
   "codemirror_mode": {
    "name": "ipython",
    "version": 3
   },
   "file_extension": ".py",
   "mimetype": "text/x-python",
   "name": "python",
   "nbconvert_exporter": "python",
   "pygments_lexer": "ipython3",
   "version": "3.6.3"
  }
 },
 "nbformat": 4,
 "nbformat_minor": 2
}
